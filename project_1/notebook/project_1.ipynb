{
 "cells": [
  {
   "cell_type": "markdown",
   "id": "b24007c9",
   "metadata": {},
   "source": [
    "# Import libraries"
   ]
  },
  {
   "cell_type": "code",
   "execution_count": 541,
   "id": "3d6fc3bd",
   "metadata": {},
   "outputs": [],
   "source": [
    "import os\n",
    "import numpy as np\n",
    "import pandas as pd\n",
    "import matplotlib.pyplot as plt\n",
    "import seaborn as sns\n",
    "import scipy.stats as st\n",
    "from statannot import add_stat_annotation"
   ]
  },
  {
   "cell_type": "markdown",
   "id": "2213644f",
   "metadata": {},
   "source": [
    "# Load the data"
   ]
  },
  {
   "cell_type": "markdown",
   "id": "0bb8c6f4",
   "metadata": {},
   "source": [
    "In this project we analyzed the dataset about last 120 years olympic champions.   \n",
    "The dataset splitted to some files with tables. "
   ]
  },
  {
   "cell_type": "markdown",
   "id": "c34ee645",
   "metadata": {},
   "source": [
    "### Task 1"
   ]
  },
  {
   "cell_type": "code",
   "execution_count": 542,
   "id": "22dc6360",
   "metadata": {},
   "outputs": [],
   "source": [
    "def unite_table(direct, extension):\n",
    "    one_table = pd.DataFrame()\n",
    "    file_names = os.listdir(direct)\n",
    "    \n",
    "    for file in file_names:\n",
    "        try:\n",
    "            if file.endswith(extension) and extension == 'csv':\n",
    "                adding_table = pd.read_csv(os.path.join(direct, file))\n",
    "                one_table = pd.concat([one_table, adding_table], axis=0)\n",
    "            elif file.endswith(extension) and extension != 'csv':\n",
    "                adding_table = pd.read_table(os.path.join(direct, file))\n",
    "                one_table = pd.concat([one_table, adding_table], axis=0)\n",
    "        except:\n",
    "            pass\n",
    "    \n",
    "    return one_table"
   ]
  },
  {
   "cell_type": "code",
   "execution_count": 543,
   "id": "56baa91c",
   "metadata": {},
   "outputs": [],
   "source": [
    "direct = '/Users/emulciber/IB/statistics_and_r/BI_stats_2022/project_1/data/athlete_events/'\n",
    "extension = 'csv'"
   ]
  },
  {
   "cell_type": "code",
   "execution_count": 544,
   "id": "a5880ef7",
   "metadata": {},
   "outputs": [],
   "source": [
    "olympics = unite_table(direct, extension)"
   ]
  },
  {
   "cell_type": "markdown",
   "id": "e48a9c6d",
   "metadata": {},
   "source": [
    "# Exploratory data analysis (EDA)"
   ]
  },
  {
   "cell_type": "markdown",
   "id": "f9087293",
   "metadata": {},
   "source": [
    "The dataset has the following features:\n",
    "\n",
    "* ID – Unique number for each athlete\n",
    "* Name – Athlete's name\n",
    "* Sex – M or F\n",
    "* Age – Integer\n",
    "* Height – In centimeters\n",
    "* Weight – In kilograms\n",
    "* Team – Team name\n",
    "* NOC – National Olympic Committee 3-letter code\n",
    "* Games – Year and season\n",
    "* Year – Integer\n",
    "* Season – Summer or Winter\n",
    "* City – Host city\n",
    "* Sport – Sport\n",
    "* Event – Event\n",
    "* Medal – Gold, Silver, Bronze, or NA"
   ]
  },
  {
   "cell_type": "markdown",
   "id": "a80c4184",
   "metadata": {},
   "source": [
    "### Task 2"
   ]
  },
  {
   "cell_type": "markdown",
   "id": "e7a54164",
   "metadata": {},
   "source": [
    "Check that the table is loaded correct. See the data in table format visually."
   ]
  },
  {
   "cell_type": "code",
   "execution_count": 545,
   "id": "09bd3424",
   "metadata": {
    "scrolled": true
   },
   "outputs": [
    {
     "data": {
      "text/html": [
       "<div>\n",
       "<style scoped>\n",
       "    .dataframe tbody tr th:only-of-type {\n",
       "        vertical-align: middle;\n",
       "    }\n",
       "\n",
       "    .dataframe tbody tr th {\n",
       "        vertical-align: top;\n",
       "    }\n",
       "\n",
       "    .dataframe thead th {\n",
       "        text-align: right;\n",
       "    }\n",
       "</style>\n",
       "<table border=\"1\" class=\"dataframe\">\n",
       "  <thead>\n",
       "    <tr style=\"text-align: right;\">\n",
       "      <th></th>\n",
       "      <th>ID</th>\n",
       "      <th>Name</th>\n",
       "      <th>Sex</th>\n",
       "      <th>Age</th>\n",
       "      <th>Height</th>\n",
       "      <th>Weight</th>\n",
       "      <th>Team</th>\n",
       "      <th>NOC</th>\n",
       "      <th>Games</th>\n",
       "      <th>Year</th>\n",
       "      <th>Season</th>\n",
       "      <th>City</th>\n",
       "      <th>Sport</th>\n",
       "      <th>Event</th>\n",
       "      <th>Medal</th>\n",
       "    </tr>\n",
       "  </thead>\n",
       "  <tbody>\n",
       "    <tr>\n",
       "      <th>0</th>\n",
       "      <td>91138</td>\n",
       "      <td>Anton Dmitriyevich Pantov</td>\n",
       "      <td>M</td>\n",
       "      <td>22.0</td>\n",
       "      <td>187.0</td>\n",
       "      <td>77.0</td>\n",
       "      <td>Kazakhstan</td>\n",
       "      <td>KAZ</td>\n",
       "      <td>2014 Winter</td>\n",
       "      <td>2014.0</td>\n",
       "      <td>Winter</td>\n",
       "      <td>Sochi</td>\n",
       "      <td>Biathlon</td>\n",
       "      <td>Biathlon Men's 10 kilometres Sprint</td>\n",
       "      <td>NaN</td>\n",
       "    </tr>\n",
       "    <tr>\n",
       "      <th>1</th>\n",
       "      <td>91138</td>\n",
       "      <td>Anton Dmitriyevich Pantov</td>\n",
       "      <td>M</td>\n",
       "      <td>22.0</td>\n",
       "      <td>187.0</td>\n",
       "      <td>77.0</td>\n",
       "      <td>Kazakhstan</td>\n",
       "      <td>KAZ</td>\n",
       "      <td>2014 Winter</td>\n",
       "      <td>2014.0</td>\n",
       "      <td>Winter</td>\n",
       "      <td>Sochi</td>\n",
       "      <td>Biathlon</td>\n",
       "      <td>Biathlon Mixed 2 x 6 kilometres and 2 x 7.5 ki...</td>\n",
       "      <td>NaN</td>\n",
       "    </tr>\n",
       "    <tr>\n",
       "      <th>2</th>\n",
       "      <td>91138</td>\n",
       "      <td>Anton Dmitriyevich Pantov</td>\n",
       "      <td>M</td>\n",
       "      <td>22.0</td>\n",
       "      <td>187.0</td>\n",
       "      <td>77.0</td>\n",
       "      <td>Kazakhstan</td>\n",
       "      <td>KAZ</td>\n",
       "      <td>2014 Winter</td>\n",
       "      <td>2014.0</td>\n",
       "      <td>Winter</td>\n",
       "      <td>Sochi</td>\n",
       "      <td>Biathlon</td>\n",
       "      <td>Biathlon Men's 20 kilometres</td>\n",
       "      <td>NaN</td>\n",
       "    </tr>\n",
       "    <tr>\n",
       "      <th>3</th>\n",
       "      <td>91138</td>\n",
       "      <td>Anton Dmitriyevich Pantov</td>\n",
       "      <td>M</td>\n",
       "      <td>22.0</td>\n",
       "      <td>187.0</td>\n",
       "      <td>77.0</td>\n",
       "      <td>Kazakhstan</td>\n",
       "      <td>KAZ</td>\n",
       "      <td>2014 Winter</td>\n",
       "      <td>2014.0</td>\n",
       "      <td>Winter</td>\n",
       "      <td>Sochi</td>\n",
       "      <td>Biathlon</td>\n",
       "      <td>Biathlon Men's 4 x 7.5 kilometres Relay</td>\n",
       "      <td>NaN</td>\n",
       "    </tr>\n",
       "    <tr>\n",
       "      <th>4</th>\n",
       "      <td>91139</td>\n",
       "      <td>Dmitry Anatolyevich Pantov</td>\n",
       "      <td>M</td>\n",
       "      <td>24.0</td>\n",
       "      <td>190.0</td>\n",
       "      <td>85.0</td>\n",
       "      <td>Kazakhstan</td>\n",
       "      <td>KAZ</td>\n",
       "      <td>1994 Winter</td>\n",
       "      <td>1994.0</td>\n",
       "      <td>Winter</td>\n",
       "      <td>Lillehammer</td>\n",
       "      <td>Biathlon</td>\n",
       "      <td>Biathlon Men's 10 kilometres Sprint</td>\n",
       "      <td>NaN</td>\n",
       "    </tr>\n",
       "  </tbody>\n",
       "</table>\n",
       "</div>"
      ],
      "text/plain": [
       "      ID                        Name Sex   Age  Height  Weight        Team  \\\n",
       "0  91138   Anton Dmitriyevich Pantov   M  22.0   187.0    77.0  Kazakhstan   \n",
       "1  91138   Anton Dmitriyevich Pantov   M  22.0   187.0    77.0  Kazakhstan   \n",
       "2  91138   Anton Dmitriyevich Pantov   M  22.0   187.0    77.0  Kazakhstan   \n",
       "3  91138   Anton Dmitriyevich Pantov   M  22.0   187.0    77.0  Kazakhstan   \n",
       "4  91139  Dmitry Anatolyevich Pantov   M  24.0   190.0    85.0  Kazakhstan   \n",
       "\n",
       "   NOC        Games    Year  Season         City     Sport  \\\n",
       "0  KAZ  2014 Winter  2014.0  Winter        Sochi  Biathlon   \n",
       "1  KAZ  2014 Winter  2014.0  Winter        Sochi  Biathlon   \n",
       "2  KAZ  2014 Winter  2014.0  Winter        Sochi  Biathlon   \n",
       "3  KAZ  2014 Winter  2014.0  Winter        Sochi  Biathlon   \n",
       "4  KAZ  1994 Winter  1994.0  Winter  Lillehammer  Biathlon   \n",
       "\n",
       "                                               Event Medal  \n",
       "0                Biathlon Men's 10 kilometres Sprint   NaN  \n",
       "1  Biathlon Mixed 2 x 6 kilometres and 2 x 7.5 ki...   NaN  \n",
       "2                       Biathlon Men's 20 kilometres   NaN  \n",
       "3            Biathlon Men's 4 x 7.5 kilometres Relay   NaN  \n",
       "4                Biathlon Men's 10 kilometres Sprint   NaN  "
      ]
     },
     "execution_count": 545,
     "metadata": {},
     "output_type": "execute_result"
    }
   ],
   "source": [
    "olympics.head()"
   ]
  },
  {
   "cell_type": "markdown",
   "id": "3c3dfe44",
   "metadata": {},
   "source": [
    "Call types and number of objects in table."
   ]
  },
  {
   "cell_type": "code",
   "execution_count": 546,
   "id": "3fe388e1",
   "metadata": {},
   "outputs": [
    {
     "name": "stdout",
     "output_type": "stream",
     "text": [
      "<class 'pandas.core.frame.DataFrame'>\n",
      "Int64Index: 271115 entries, 0 to 22390\n",
      "Data columns (total 15 columns):\n",
      " #   Column  Non-Null Count   Dtype  \n",
      "---  ------  --------------   -----  \n",
      " 0   ID      271115 non-null  int64  \n",
      " 1   Name    271114 non-null  object \n",
      " 2   Sex     271113 non-null  object \n",
      " 3   Age     261639 non-null  float64\n",
      " 4   Height  210943 non-null  float64\n",
      " 5   Weight  208239 non-null  float64\n",
      " 6   Team    271112 non-null  object \n",
      " 7   NOC     271111 non-null  object \n",
      " 8   Games   271110 non-null  object \n",
      " 9   Year    271108 non-null  float64\n",
      " 10  Season  271108 non-null  object \n",
      " 11  City    271108 non-null  object \n",
      " 12  Sport   271108 non-null  object \n",
      " 13  Event   271107 non-null  object \n",
      " 14  Medal   39782 non-null   object \n",
      "dtypes: float64(4), int64(1), object(10)\n",
      "memory usage: 33.1+ MB\n"
     ]
    }
   ],
   "source": [
    "olympics.info()"
   ]
  },
  {
   "cell_type": "markdown",
   "id": "4110649b",
   "metadata": {},
   "source": [
    "All types are correct and correspond to the data description (integer and numbers as float, another variables as object). But some variables contain missing values."
   ]
  },
  {
   "cell_type": "markdown",
   "id": "d772e925",
   "metadata": {},
   "source": [
    "To solve what to do with missing values, we need to estimate each variable: how many missing value a variable contains? Is it numeric variable or strings? Is a variable more important to get some groups from dataset or it isn't?   \n",
    "    \n",
    "* Variables \"Sex\", \"Games\", \"Season\" and \"Medal\" contain simple categories, so these variables are important for us and we can delete rows with missing values in these variables (except \"Medal\" because of NaN as type of needed value). Then we need to check if values of categories are incorrect.   \n",
    "    \n",
    "* Variables \"Age\", \"Height\", \"Weight\" and \"Year\" contain numeric values, so we may delete rows with NaN, fill NaNs with means of variables or do nothing. Because of having about 60k missing values in these variables and the need to count numbers of values we want to save the maximum of possible values, so we'll do nothing with NaN values and try to do our analysis with NaNs processing individually. But we must check values if they are legit and they aren't outliers out of logic of the variable.   \n",
    "    \n",
    "* Variables \"ID\", \"Name\", \"Team\", \"NOC\", \"City\", \"Sport\" and \"Event\" contain unique values or categories with many values so NaN values in these variables is no problem for us."
   ]
  },
  {
   "cell_type": "markdown",
   "id": "e833c5a4",
   "metadata": {},
   "source": [
    "Before all changes check the number of observations:"
   ]
  },
  {
   "cell_type": "code",
   "execution_count": 547,
   "id": "7c188349",
   "metadata": {},
   "outputs": [
    {
     "data": {
      "text/plain": [
       "271115"
      ]
     },
     "execution_count": 547,
     "metadata": {},
     "output_type": "execute_result"
    }
   ],
   "source": [
    "obs_before_na_editing = len(olympics)\n",
    "obs_before_na_editing"
   ]
  },
  {
   "cell_type": "markdown",
   "id": "a7d46613",
   "metadata": {},
   "source": [
    "Drop NaN values from some variables:"
   ]
  },
  {
   "cell_type": "code",
   "execution_count": 548,
   "id": "914acc04",
   "metadata": {},
   "outputs": [],
   "source": [
    "olympics = olympics.dropna(subset=['Sex', 'Games', 'Season'])"
   ]
  },
  {
   "cell_type": "markdown",
   "id": "6b2a08b6",
   "metadata": {},
   "source": [
    "Check if \"Sex\" variable contains invalid values:"
   ]
  },
  {
   "cell_type": "code",
   "execution_count": 549,
   "id": "a0ba241f",
   "metadata": {},
   "outputs": [
    {
     "data": {
      "text/plain": [
       "M    196586\n",
       "F     74520\n",
       "G         2\n",
       "Name: Sex, dtype: int64"
      ]
     },
     "execution_count": 549,
     "metadata": {},
     "output_type": "execute_result"
    }
   ],
   "source": [
    "olympics['Sex'].value_counts()"
   ]
  },
  {
   "cell_type": "markdown",
   "id": "507f6938",
   "metadata": {},
   "source": [
    "We see the \"G\" value. Let's see on it:"
   ]
  },
  {
   "cell_type": "code",
   "execution_count": 550,
   "id": "647bbb53",
   "metadata": {},
   "outputs": [
    {
     "data": {
      "text/html": [
       "<div>\n",
       "<style scoped>\n",
       "    .dataframe tbody tr th:only-of-type {\n",
       "        vertical-align: middle;\n",
       "    }\n",
       "\n",
       "    .dataframe tbody tr th {\n",
       "        vertical-align: top;\n",
       "    }\n",
       "\n",
       "    .dataframe thead th {\n",
       "        text-align: right;\n",
       "    }\n",
       "</style>\n",
       "<table border=\"1\" class=\"dataframe\">\n",
       "  <thead>\n",
       "    <tr style=\"text-align: right;\">\n",
       "      <th></th>\n",
       "      <th>ID</th>\n",
       "      <th>Name</th>\n",
       "      <th>Sex</th>\n",
       "      <th>Age</th>\n",
       "      <th>Height</th>\n",
       "      <th>Weight</th>\n",
       "      <th>Team</th>\n",
       "      <th>NOC</th>\n",
       "      <th>Games</th>\n",
       "      <th>Year</th>\n",
       "      <th>Season</th>\n",
       "      <th>City</th>\n",
       "      <th>Sport</th>\n",
       "      <th>Event</th>\n",
       "      <th>Medal</th>\n",
       "    </tr>\n",
       "  </thead>\n",
       "  <tbody>\n",
       "    <tr>\n",
       "      <th>42</th>\n",
       "      <td>79609</td>\n",
       "      <td>Pavel Mike</td>\n",
       "      <td>G</td>\n",
       "      <td>22.0</td>\n",
       "      <td>182.0</td>\n",
       "      <td>79.0</td>\n",
       "      <td>Czechoslovakia</td>\n",
       "      <td>TCH</td>\n",
       "      <td>1972 Summer</td>\n",
       "      <td>1972.0</td>\n",
       "      <td>Summer</td>\n",
       "      <td>Munich</td>\n",
       "      <td>Handball</td>\n",
       "      <td>Handball Men's Handball</td>\n",
       "      <td>Silver</td>\n",
       "    </tr>\n",
       "    <tr>\n",
       "      <th>74</th>\n",
       "      <td>79630</td>\n",
       "      <td>Anatoly Mikhaylin</td>\n",
       "      <td>G</td>\n",
       "      <td>37.0</td>\n",
       "      <td>NaN</td>\n",
       "      <td>NaN</td>\n",
       "      <td>Russia</td>\n",
       "      <td>RUS</td>\n",
       "      <td>1996 Summer</td>\n",
       "      <td>1996.0</td>\n",
       "      <td>Summer</td>\n",
       "      <td>Atlanta</td>\n",
       "      <td>Sailing</td>\n",
       "      <td>Sailing Mixed Two Person Keelboat</td>\n",
       "      <td>NaN</td>\n",
       "    </tr>\n",
       "  </tbody>\n",
       "</table>\n",
       "</div>"
      ],
      "text/plain": [
       "       ID               Name Sex   Age  Height  Weight            Team  NOC  \\\n",
       "42  79609         Pavel Mike   G  22.0   182.0    79.0  Czechoslovakia  TCH   \n",
       "74  79630  Anatoly Mikhaylin   G  37.0     NaN     NaN          Russia  RUS   \n",
       "\n",
       "          Games    Year  Season     City     Sport  \\\n",
       "42  1972 Summer  1972.0  Summer   Munich  Handball   \n",
       "74  1996 Summer  1996.0  Summer  Atlanta   Sailing   \n",
       "\n",
       "                                Event   Medal  \n",
       "42            Handball Men's Handball  Silver  \n",
       "74  Sailing Mixed Two Person Keelboat     NaN  "
      ]
     },
     "execution_count": 550,
     "metadata": {},
     "output_type": "execute_result"
    }
   ],
   "source": [
    "olympics[olympics['Sex'] == 'G']"
   ]
  },
  {
   "cell_type": "markdown",
   "id": "564f7282",
   "metadata": {},
   "source": [
    "From the context we see that the needed values is \"M\" so change it:"
   ]
  },
  {
   "cell_type": "code",
   "execution_count": 551,
   "id": "956bbf6e",
   "metadata": {},
   "outputs": [],
   "source": [
    "olympics.loc[olympics['Sex'] == 'G', 'Sex'] = 'M' "
   ]
  },
  {
   "cell_type": "markdown",
   "id": "3152c185",
   "metadata": {},
   "source": [
    "Check if \"Games\" variable contains invalid values:"
   ]
  },
  {
   "cell_type": "code",
   "execution_count": 552,
   "id": "e901eb76",
   "metadata": {
    "scrolled": true
   },
   "outputs": [
    {
     "data": {
      "text/plain": [
       "2000 Summer    13820\n",
       "1996 Summer    13779\n",
       "2016 Summer    13688\n",
       "2008 Summer    13602\n",
       "2004 Summer    13441\n",
       "1992 Summer    12977\n",
       "2012 Summer    12919\n",
       "1988 Summer    12037\n",
       "1972 Summer    10304\n",
       "1984 Summer     9453\n",
       "1976 Summer     8641\n",
       "1968 Summer     8588\n",
       "1952 Summer     8270\n",
       "1960 Summer     8118\n",
       "1964 Summer     7702\n",
       "1980 Summer     7191\n",
       "1936 Summer     6506\n",
       "1948 Summer     6405\n",
       "1924 Summer     5233\n",
       "1956 Summer     5127\n",
       "1928 Summer     4992\n",
       "2014 Winter     4891\n",
       "2010 Winter     4402\n",
       "2006 Winter     4382\n",
       "1920 Summer     4292\n",
       "2002 Winter     4109\n",
       "1912 Summer     4039\n",
       "1998 Winter     3605\n",
       "1992 Winter     3436\n",
       "1994 Winter     3160\n",
       "1908 Summer     3101\n",
       "1932 Summer     2969\n",
       "1988 Winter     2639\n",
       "1984 Winter     2134\n",
       "1900 Summer     1936\n",
       "1968 Winter     1891\n",
       "1976 Winter     1861\n",
       "1964 Winter     1778\n",
       "1980 Winter     1746\n",
       "1906 Summer     1733\n",
       "1972 Winter     1655\n",
       "1956 Winter     1307\n",
       "1904 Summer     1301\n",
       "1960 Winter     1116\n",
       "1952 Winter     1088\n",
       "1948 Winter     1075\n",
       "1936 Winter      895\n",
       "1928 Winter      582\n",
       "1924 Winter      460\n",
       "1896 Summer      380\n",
       "1932 Winter      352\n",
       "Name: Games, dtype: int64"
      ]
     },
     "execution_count": 552,
     "metadata": {},
     "output_type": "execute_result"
    }
   ],
   "source": [
    "olympics['Games'].value_counts()"
   ]
  },
  {
   "cell_type": "markdown",
   "id": "7c23ebfc",
   "metadata": {},
   "source": [
    "All values are correct.\n",
    "     \n",
    "Check if \"Season\" variable contains invalid values:"
   ]
  },
  {
   "cell_type": "code",
   "execution_count": 553,
   "id": "ee201c1d",
   "metadata": {},
   "outputs": [
    {
     "data": {
      "text/plain": [
       "Summer    222544\n",
       "Winter     48564\n",
       "Name: Season, dtype: int64"
      ]
     },
     "execution_count": 553,
     "metadata": {},
     "output_type": "execute_result"
    }
   ],
   "source": [
    "olympics['Season'].value_counts()"
   ]
  },
  {
   "cell_type": "markdown",
   "id": "1f5e9bbc",
   "metadata": {},
   "source": [
    "All values are correct.\n",
    "\n",
    "Check if \"Medal\" variable contains invalid values:"
   ]
  },
  {
   "cell_type": "code",
   "execution_count": 554,
   "id": "38d40631",
   "metadata": {},
   "outputs": [
    {
     "data": {
      "text/plain": [
       "Gold      13372\n",
       "Bronze    13295\n",
       "Silver    13115\n",
       "Name: Medal, dtype: int64"
      ]
     },
     "execution_count": 554,
     "metadata": {},
     "output_type": "execute_result"
    }
   ],
   "source": [
    "olympics['Medal'].value_counts()"
   ]
  },
  {
   "cell_type": "markdown",
   "id": "c4f82264",
   "metadata": {},
   "source": [
    "All values are correct."
   ]
  },
  {
   "cell_type": "markdown",
   "id": "1da6ebec",
   "metadata": {},
   "source": [
    "Check how many observations we have after NaN editing:"
   ]
  },
  {
   "cell_type": "code",
   "execution_count": 555,
   "id": "b4030cd5",
   "metadata": {},
   "outputs": [
    {
     "name": "stdout",
     "output_type": "stream",
     "text": [
      "271108\n",
      "7\n"
     ]
    }
   ],
   "source": [
    "obs_after_na_editing = len(olympics)\n",
    "print(obs_after_na_editing)\n",
    "print(obs_before_na_editing - obs_after_na_editing)"
   ]
  },
  {
   "cell_type": "markdown",
   "id": "e6faad94",
   "metadata": {},
   "source": [
    "So we lost only 7 observations."
   ]
  },
  {
   "cell_type": "markdown",
   "id": "2453b427",
   "metadata": {},
   "source": [
    "Now we can see the first descriptive statistics of our numeric variables:"
   ]
  },
  {
   "cell_type": "code",
   "execution_count": 556,
   "id": "097b6f70",
   "metadata": {},
   "outputs": [
    {
     "data": {
      "text/html": [
       "<div>\n",
       "<style scoped>\n",
       "    .dataframe tbody tr th:only-of-type {\n",
       "        vertical-align: middle;\n",
       "    }\n",
       "\n",
       "    .dataframe tbody tr th {\n",
       "        vertical-align: top;\n",
       "    }\n",
       "\n",
       "    .dataframe thead th {\n",
       "        text-align: right;\n",
       "    }\n",
       "</style>\n",
       "<table border=\"1\" class=\"dataframe\">\n",
       "  <thead>\n",
       "    <tr style=\"text-align: right;\">\n",
       "      <th></th>\n",
       "      <th>ID</th>\n",
       "      <th>Age</th>\n",
       "      <th>Height</th>\n",
       "      <th>Weight</th>\n",
       "      <th>Year</th>\n",
       "    </tr>\n",
       "  </thead>\n",
       "  <tbody>\n",
       "    <tr>\n",
       "      <th>count</th>\n",
       "      <td>271108.000000</td>\n",
       "      <td>261634.000000</td>\n",
       "      <td>210939.000000</td>\n",
       "      <td>208235.000000</td>\n",
       "      <td>271108.000000</td>\n",
       "    </tr>\n",
       "    <tr>\n",
       "      <th>mean</th>\n",
       "      <td>68249.031718</td>\n",
       "      <td>25.557710</td>\n",
       "      <td>175.339885</td>\n",
       "      <td>70.702744</td>\n",
       "      <td>1978.378314</td>\n",
       "    </tr>\n",
       "    <tr>\n",
       "      <th>std</th>\n",
       "      <td>39022.238707</td>\n",
       "      <td>6.407331</td>\n",
       "      <td>10.524642</td>\n",
       "      <td>14.348223</td>\n",
       "      <td>29.877579</td>\n",
       "    </tr>\n",
       "    <tr>\n",
       "      <th>min</th>\n",
       "      <td>1.000000</td>\n",
       "      <td>10.000000</td>\n",
       "      <td>127.000000</td>\n",
       "      <td>25.000000</td>\n",
       "      <td>1896.000000</td>\n",
       "    </tr>\n",
       "    <tr>\n",
       "      <th>25%</th>\n",
       "      <td>34643.000000</td>\n",
       "      <td>21.000000</td>\n",
       "      <td>168.000000</td>\n",
       "      <td>60.000000</td>\n",
       "      <td>1960.000000</td>\n",
       "    </tr>\n",
       "    <tr>\n",
       "      <th>50%</th>\n",
       "      <td>68205.000000</td>\n",
       "      <td>24.000000</td>\n",
       "      <td>175.000000</td>\n",
       "      <td>70.000000</td>\n",
       "      <td>1988.000000</td>\n",
       "    </tr>\n",
       "    <tr>\n",
       "      <th>75%</th>\n",
       "      <td>102097.000000</td>\n",
       "      <td>28.000000</td>\n",
       "      <td>183.000000</td>\n",
       "      <td>79.000000</td>\n",
       "      <td>2002.000000</td>\n",
       "    </tr>\n",
       "    <tr>\n",
       "      <th>max</th>\n",
       "      <td>135571.000000</td>\n",
       "      <td>240.000000</td>\n",
       "      <td>340.000000</td>\n",
       "      <td>214.000000</td>\n",
       "      <td>2016.000000</td>\n",
       "    </tr>\n",
       "  </tbody>\n",
       "</table>\n",
       "</div>"
      ],
      "text/plain": [
       "                  ID            Age         Height         Weight  \\\n",
       "count  271108.000000  261634.000000  210939.000000  208235.000000   \n",
       "mean    68249.031718      25.557710     175.339885      70.702744   \n",
       "std     39022.238707       6.407331      10.524642      14.348223   \n",
       "min         1.000000      10.000000     127.000000      25.000000   \n",
       "25%     34643.000000      21.000000     168.000000      60.000000   \n",
       "50%     68205.000000      24.000000     175.000000      70.000000   \n",
       "75%    102097.000000      28.000000     183.000000      79.000000   \n",
       "max    135571.000000     240.000000     340.000000     214.000000   \n",
       "\n",
       "                Year  \n",
       "count  271108.000000  \n",
       "mean     1978.378314  \n",
       "std        29.877579  \n",
       "min      1896.000000  \n",
       "25%      1960.000000  \n",
       "50%      1988.000000  \n",
       "75%      2002.000000  \n",
       "max      2016.000000  "
      ]
     },
     "execution_count": 556,
     "metadata": {},
     "output_type": "execute_result"
    }
   ],
   "source": [
    "olympics.describe()"
   ]
  },
  {
   "cell_type": "markdown",
   "id": "6f058c2a",
   "metadata": {},
   "source": [
    "All statistics make sense in the context of the meaning of the variables.   \n",
    "\n",
    "Now we need to check values and outliers in \"Age\", \"Height\", \"Weight\" and \"Year\". Some questions may arise to the min value \"25\" in \"Weight\", max values \"240\" in \"Age\", \"340\" in \"Height\" and \"214\" in \"Weight\" so let's see on it:"
   ]
  },
  {
   "cell_type": "code",
   "execution_count": 557,
   "id": "2448bef0",
   "metadata": {},
   "outputs": [
    {
     "data": {
      "text/html": [
       "<div>\n",
       "<style scoped>\n",
       "    .dataframe tbody tr th:only-of-type {\n",
       "        vertical-align: middle;\n",
       "    }\n",
       "\n",
       "    .dataframe tbody tr th {\n",
       "        vertical-align: top;\n",
       "    }\n",
       "\n",
       "    .dataframe thead th {\n",
       "        text-align: right;\n",
       "    }\n",
       "</style>\n",
       "<table border=\"1\" class=\"dataframe\">\n",
       "  <thead>\n",
       "    <tr style=\"text-align: right;\">\n",
       "      <th></th>\n",
       "      <th>ID</th>\n",
       "      <th>Name</th>\n",
       "      <th>Sex</th>\n",
       "      <th>Age</th>\n",
       "      <th>Height</th>\n",
       "      <th>Weight</th>\n",
       "      <th>Team</th>\n",
       "      <th>NOC</th>\n",
       "      <th>Games</th>\n",
       "      <th>Year</th>\n",
       "      <th>Season</th>\n",
       "      <th>City</th>\n",
       "      <th>Sport</th>\n",
       "      <th>Event</th>\n",
       "      <th>Medal</th>\n",
       "    </tr>\n",
       "  </thead>\n",
       "  <tbody>\n",
       "    <tr>\n",
       "      <th>18013</th>\n",
       "      <td>21049</td>\n",
       "      <td>Choi Myong-Hui</td>\n",
       "      <td>F</td>\n",
       "      <td>14.0</td>\n",
       "      <td>135.0</td>\n",
       "      <td>25.0</td>\n",
       "      <td>North Korea</td>\n",
       "      <td>PRK</td>\n",
       "      <td>1980 Summer</td>\n",
       "      <td>1980.0</td>\n",
       "      <td>Summer</td>\n",
       "      <td>Moskva</td>\n",
       "      <td>Gymnastics</td>\n",
       "      <td>Gymnastics Women's Individual All-Around</td>\n",
       "      <td>NaN</td>\n",
       "    </tr>\n",
       "    <tr>\n",
       "      <th>18014</th>\n",
       "      <td>21049</td>\n",
       "      <td>Choi Myong-Hui</td>\n",
       "      <td>F</td>\n",
       "      <td>14.0</td>\n",
       "      <td>135.0</td>\n",
       "      <td>25.0</td>\n",
       "      <td>North Korea</td>\n",
       "      <td>PRK</td>\n",
       "      <td>1980 Summer</td>\n",
       "      <td>1980.0</td>\n",
       "      <td>Summer</td>\n",
       "      <td>Moskva</td>\n",
       "      <td>Gymnastics</td>\n",
       "      <td>Gymnastics Women's Team All-Around</td>\n",
       "      <td>NaN</td>\n",
       "    </tr>\n",
       "    <tr>\n",
       "      <th>18015</th>\n",
       "      <td>21049</td>\n",
       "      <td>Choi Myong-Hui</td>\n",
       "      <td>F</td>\n",
       "      <td>14.0</td>\n",
       "      <td>135.0</td>\n",
       "      <td>25.0</td>\n",
       "      <td>North Korea</td>\n",
       "      <td>PRK</td>\n",
       "      <td>1980 Summer</td>\n",
       "      <td>1980.0</td>\n",
       "      <td>Summer</td>\n",
       "      <td>Moskva</td>\n",
       "      <td>Gymnastics</td>\n",
       "      <td>Gymnastics Women's Floor Exercise</td>\n",
       "      <td>NaN</td>\n",
       "    </tr>\n",
       "    <tr>\n",
       "      <th>18016</th>\n",
       "      <td>21049</td>\n",
       "      <td>Choi Myong-Hui</td>\n",
       "      <td>F</td>\n",
       "      <td>14.0</td>\n",
       "      <td>135.0</td>\n",
       "      <td>25.0</td>\n",
       "      <td>North Korea</td>\n",
       "      <td>PRK</td>\n",
       "      <td>1980 Summer</td>\n",
       "      <td>1980.0</td>\n",
       "      <td>Summer</td>\n",
       "      <td>Moskva</td>\n",
       "      <td>Gymnastics</td>\n",
       "      <td>Gymnastics Women's Horse Vault</td>\n",
       "      <td>NaN</td>\n",
       "    </tr>\n",
       "    <tr>\n",
       "      <th>18017</th>\n",
       "      <td>21049</td>\n",
       "      <td>Choi Myong-Hui</td>\n",
       "      <td>F</td>\n",
       "      <td>14.0</td>\n",
       "      <td>135.0</td>\n",
       "      <td>25.0</td>\n",
       "      <td>North Korea</td>\n",
       "      <td>PRK</td>\n",
       "      <td>1980 Summer</td>\n",
       "      <td>1980.0</td>\n",
       "      <td>Summer</td>\n",
       "      <td>Moskva</td>\n",
       "      <td>Gymnastics</td>\n",
       "      <td>Gymnastics Women's Uneven Bars</td>\n",
       "      <td>NaN</td>\n",
       "    </tr>\n",
       "    <tr>\n",
       "      <th>18018</th>\n",
       "      <td>21049</td>\n",
       "      <td>Choi Myong-Hui</td>\n",
       "      <td>F</td>\n",
       "      <td>14.0</td>\n",
       "      <td>135.0</td>\n",
       "      <td>25.0</td>\n",
       "      <td>North Korea</td>\n",
       "      <td>PRK</td>\n",
       "      <td>1980 Summer</td>\n",
       "      <td>1980.0</td>\n",
       "      <td>Summer</td>\n",
       "      <td>Moskva</td>\n",
       "      <td>Gymnastics</td>\n",
       "      <td>Gymnastics Women's Balance Beam</td>\n",
       "      <td>NaN</td>\n",
       "    </tr>\n",
       "  </tbody>\n",
       "</table>\n",
       "</div>"
      ],
      "text/plain": [
       "          ID            Name Sex   Age  Height  Weight         Team  NOC  \\\n",
       "18013  21049  Choi Myong-Hui   F  14.0   135.0    25.0  North Korea  PRK   \n",
       "18014  21049  Choi Myong-Hui   F  14.0   135.0    25.0  North Korea  PRK   \n",
       "18015  21049  Choi Myong-Hui   F  14.0   135.0    25.0  North Korea  PRK   \n",
       "18016  21049  Choi Myong-Hui   F  14.0   135.0    25.0  North Korea  PRK   \n",
       "18017  21049  Choi Myong-Hui   F  14.0   135.0    25.0  North Korea  PRK   \n",
       "18018  21049  Choi Myong-Hui   F  14.0   135.0    25.0  North Korea  PRK   \n",
       "\n",
       "             Games    Year  Season    City       Sport  \\\n",
       "18013  1980 Summer  1980.0  Summer  Moskva  Gymnastics   \n",
       "18014  1980 Summer  1980.0  Summer  Moskva  Gymnastics   \n",
       "18015  1980 Summer  1980.0  Summer  Moskva  Gymnastics   \n",
       "18016  1980 Summer  1980.0  Summer  Moskva  Gymnastics   \n",
       "18017  1980 Summer  1980.0  Summer  Moskva  Gymnastics   \n",
       "18018  1980 Summer  1980.0  Summer  Moskva  Gymnastics   \n",
       "\n",
       "                                          Event Medal  \n",
       "18013  Gymnastics Women's Individual All-Around   NaN  \n",
       "18014        Gymnastics Women's Team All-Around   NaN  \n",
       "18015         Gymnastics Women's Floor Exercise   NaN  \n",
       "18016            Gymnastics Women's Horse Vault   NaN  \n",
       "18017            Gymnastics Women's Uneven Bars   NaN  \n",
       "18018           Gymnastics Women's Balance Beam   NaN  "
      ]
     },
     "execution_count": 557,
     "metadata": {},
     "output_type": "execute_result"
    }
   ],
   "source": [
    "olympics[olympics['Weight'] == 25]"
   ]
  },
  {
   "cell_type": "markdown",
   "id": "65441cb0",
   "metadata": {},
   "source": [
    "We see that the value is correct."
   ]
  },
  {
   "cell_type": "code",
   "execution_count": 558,
   "id": "2c1853d0",
   "metadata": {},
   "outputs": [
    {
     "data": {
      "text/html": [
       "<div>\n",
       "<style scoped>\n",
       "    .dataframe tbody tr th:only-of-type {\n",
       "        vertical-align: middle;\n",
       "    }\n",
       "\n",
       "    .dataframe tbody tr th {\n",
       "        vertical-align: top;\n",
       "    }\n",
       "\n",
       "    .dataframe thead th {\n",
       "        text-align: right;\n",
       "    }\n",
       "</style>\n",
       "<table border=\"1\" class=\"dataframe\">\n",
       "  <thead>\n",
       "    <tr style=\"text-align: right;\">\n",
       "      <th></th>\n",
       "      <th>ID</th>\n",
       "      <th>Name</th>\n",
       "      <th>Sex</th>\n",
       "      <th>Age</th>\n",
       "      <th>Height</th>\n",
       "      <th>Weight</th>\n",
       "      <th>Team</th>\n",
       "      <th>NOC</th>\n",
       "      <th>Games</th>\n",
       "      <th>Year</th>\n",
       "      <th>Season</th>\n",
       "      <th>City</th>\n",
       "      <th>Sport</th>\n",
       "      <th>Event</th>\n",
       "      <th>Medal</th>\n",
       "    </tr>\n",
       "  </thead>\n",
       "  <tbody>\n",
       "    <tr>\n",
       "      <th>38</th>\n",
       "      <td>23459</td>\n",
       "      <td>Flicien Jules mile Courbet</td>\n",
       "      <td>M</td>\n",
       "      <td>240.0</td>\n",
       "      <td>NaN</td>\n",
       "      <td>NaN</td>\n",
       "      <td>Belgium</td>\n",
       "      <td>BEL</td>\n",
       "      <td>1912 Summer</td>\n",
       "      <td>1912.0</td>\n",
       "      <td>Summer</td>\n",
       "      <td>Stockholm</td>\n",
       "      <td>Swimming</td>\n",
       "      <td>Swimming Men's 200 metres Breaststroke</td>\n",
       "      <td>NaN</td>\n",
       "    </tr>\n",
       "  </tbody>\n",
       "</table>\n",
       "</div>"
      ],
      "text/plain": [
       "       ID                        Name Sex    Age  Height  Weight     Team  \\\n",
       "38  23459  Flicien Jules mile Courbet   M  240.0     NaN     NaN  Belgium   \n",
       "\n",
       "    NOC        Games    Year  Season       City     Sport  \\\n",
       "38  BEL  1912 Summer  1912.0  Summer  Stockholm  Swimming   \n",
       "\n",
       "                                     Event Medal  \n",
       "38  Swimming Men's 200 metres Breaststroke   NaN  "
      ]
     },
     "execution_count": 558,
     "metadata": {},
     "output_type": "execute_result"
    }
   ],
   "source": [
    "olympics[olympics['Age'] == 240]"
   ]
  },
  {
   "cell_type": "markdown",
   "id": "e7b2523f",
   "metadata": {},
   "source": [
    "We don't know what is the true value so fill it with mean:"
   ]
  },
  {
   "cell_type": "code",
   "execution_count": 559,
   "id": "4c79516c",
   "metadata": {},
   "outputs": [],
   "source": [
    "olympics.loc[olympics['Age'] == 240, 'Age'] = olympics['Age'].mean()"
   ]
  },
  {
   "cell_type": "markdown",
   "id": "92977fd5",
   "metadata": {},
   "source": [
    "Check the distribution:"
   ]
  },
  {
   "cell_type": "code",
   "execution_count": 560,
   "id": "e108aa70",
   "metadata": {},
   "outputs": [
    {
     "data": {
      "text/plain": [
       "<AxesSubplot: >"
      ]
     },
     "execution_count": 560,
     "metadata": {},
     "output_type": "execute_result"
    },
    {
     "data": {
      "image/png": "[encoded data removed]",
      "text/plain": [
       "<Figure size 640x480 with 1 Axes>"
      ]
     },
     "metadata": {},
     "output_type": "display_data"
    }
   ],
   "source": [
    "olympics['Age'].hist(bins=50)"
   ]
  },
  {
   "cell_type": "markdown",
   "id": "9788020e",
   "metadata": {},
   "source": [
    "Now it seems legit."
   ]
  },
  {
   "cell_type": "code",
   "execution_count": 561,
   "id": "1083a13b",
   "metadata": {},
   "outputs": [
    {
     "data": {
      "text/html": [
       "<div>\n",
       "<style scoped>\n",
       "    .dataframe tbody tr th:only-of-type {\n",
       "        vertical-align: middle;\n",
       "    }\n",
       "\n",
       "    .dataframe tbody tr th {\n",
       "        vertical-align: top;\n",
       "    }\n",
       "\n",
       "    .dataframe thead th {\n",
       "        text-align: right;\n",
       "    }\n",
       "</style>\n",
       "<table border=\"1\" class=\"dataframe\">\n",
       "  <thead>\n",
       "    <tr style=\"text-align: right;\">\n",
       "      <th></th>\n",
       "      <th>ID</th>\n",
       "      <th>Name</th>\n",
       "      <th>Sex</th>\n",
       "      <th>Age</th>\n",
       "      <th>Height</th>\n",
       "      <th>Weight</th>\n",
       "      <th>Team</th>\n",
       "      <th>NOC</th>\n",
       "      <th>Games</th>\n",
       "      <th>Year</th>\n",
       "      <th>Season</th>\n",
       "      <th>City</th>\n",
       "      <th>Sport</th>\n",
       "      <th>Event</th>\n",
       "      <th>Medal</th>\n",
       "    </tr>\n",
       "  </thead>\n",
       "  <tbody>\n",
       "    <tr>\n",
       "      <th>227</th>\n",
       "      <td>23549</td>\n",
       "      <td>Kirsty Leigh Coventry (-Seward)</td>\n",
       "      <td>F</td>\n",
       "      <td>28.0</td>\n",
       "      <td>340.0</td>\n",
       "      <td>64.0</td>\n",
       "      <td>Zimbabwe</td>\n",
       "      <td>ZIM</td>\n",
       "      <td>2012 Summer</td>\n",
       "      <td>2012.0</td>\n",
       "      <td>Summer</td>\n",
       "      <td>London</td>\n",
       "      <td>Swimming</td>\n",
       "      <td>Swimming Women's 200 metres Individual Medley</td>\n",
       "      <td>NaN</td>\n",
       "    </tr>\n",
       "  </tbody>\n",
       "</table>\n",
       "</div>"
      ],
      "text/plain": [
       "        ID                             Name Sex   Age  Height  Weight  \\\n",
       "227  23549  Kirsty Leigh Coventry (-Seward)   F  28.0   340.0    64.0   \n",
       "\n",
       "         Team  NOC        Games    Year  Season    City     Sport  \\\n",
       "227  Zimbabwe  ZIM  2012 Summer  2012.0  Summer  London  Swimming   \n",
       "\n",
       "                                             Event Medal  \n",
       "227  Swimming Women's 200 metres Individual Medley   NaN  "
      ]
     },
     "execution_count": 561,
     "metadata": {},
     "output_type": "execute_result"
    }
   ],
   "source": [
    "olympics[olympics['Height'] == 340]"
   ]
  },
  {
   "cell_type": "markdown",
   "id": "a0011aef",
   "metadata": {},
   "source": [
    "There we also don't know what is the true value so fill it with mean:"
   ]
  },
  {
   "cell_type": "code",
   "execution_count": 562,
   "id": "c6b1591c",
   "metadata": {},
   "outputs": [],
   "source": [
    "olympics.loc[olympics['Height'] == 340, 'Height'] = olympics['Height'].mean()"
   ]
  },
  {
   "cell_type": "markdown",
   "id": "33f8dbfc",
   "metadata": {},
   "source": [
    "Check the distribution:"
   ]
  },
  {
   "cell_type": "code",
   "execution_count": 563,
   "id": "f97e8ef7",
   "metadata": {},
   "outputs": [
    {
     "data": {
      "text/plain": [
       "<AxesSubplot: >"
      ]
     },
     "execution_count": 563,
     "metadata": {},
     "output_type": "execute_result"
    },
    {
     "data": {
      "image/png": "[encoded data removed]",
      "text/plain": [
       "<Figure size 640x480 with 1 Axes>"
      ]
     },
     "metadata": {},
     "output_type": "display_data"
    }
   ],
   "source": [
    "olympics['Height'].hist(bins=50)"
   ]
  },
  {
   "cell_type": "markdown",
   "id": "f0a11ece",
   "metadata": {},
   "source": [
    "Now it is seems similarly to normal distribution, so check the next variable."
   ]
  },
  {
   "cell_type": "code",
   "execution_count": 564,
   "id": "afba7ebc",
   "metadata": {},
   "outputs": [
    {
     "data": {
      "text/html": [
       "<div>\n",
       "<style scoped>\n",
       "    .dataframe tbody tr th:only-of-type {\n",
       "        vertical-align: middle;\n",
       "    }\n",
       "\n",
       "    .dataframe tbody tr th {\n",
       "        vertical-align: top;\n",
       "    }\n",
       "\n",
       "    .dataframe thead th {\n",
       "        text-align: right;\n",
       "    }\n",
       "</style>\n",
       "<table border=\"1\" class=\"dataframe\">\n",
       "  <thead>\n",
       "    <tr style=\"text-align: right;\">\n",
       "      <th></th>\n",
       "      <th>ID</th>\n",
       "      <th>Name</th>\n",
       "      <th>Sex</th>\n",
       "      <th>Age</th>\n",
       "      <th>Height</th>\n",
       "      <th>Weight</th>\n",
       "      <th>Team</th>\n",
       "      <th>NOC</th>\n",
       "      <th>Games</th>\n",
       "      <th>Year</th>\n",
       "      <th>Season</th>\n",
       "      <th>City</th>\n",
       "      <th>Sport</th>\n",
       "      <th>Event</th>\n",
       "      <th>Medal</th>\n",
       "    </tr>\n",
       "  </thead>\n",
       "  <tbody>\n",
       "    <tr>\n",
       "      <th>319</th>\n",
       "      <td>12177</td>\n",
       "      <td>Ricardo Blas, Jr.</td>\n",
       "      <td>M</td>\n",
       "      <td>21.0</td>\n",
       "      <td>183.0</td>\n",
       "      <td>214.0</td>\n",
       "      <td>Guam</td>\n",
       "      <td>GUM</td>\n",
       "      <td>2008 Summer</td>\n",
       "      <td>2008.0</td>\n",
       "      <td>Summer</td>\n",
       "      <td>Beijing</td>\n",
       "      <td>Judo</td>\n",
       "      <td>Judo Men's Heavyweight</td>\n",
       "      <td>NaN</td>\n",
       "    </tr>\n",
       "    <tr>\n",
       "      <th>320</th>\n",
       "      <td>12177</td>\n",
       "      <td>Ricardo Blas, Jr.</td>\n",
       "      <td>M</td>\n",
       "      <td>25.0</td>\n",
       "      <td>183.0</td>\n",
       "      <td>214.0</td>\n",
       "      <td>Guam</td>\n",
       "      <td>GUM</td>\n",
       "      <td>2012 Summer</td>\n",
       "      <td>2012.0</td>\n",
       "      <td>Summer</td>\n",
       "      <td>London</td>\n",
       "      <td>Judo</td>\n",
       "      <td>Judo Men's Heavyweight</td>\n",
       "      <td>NaN</td>\n",
       "    </tr>\n",
       "  </tbody>\n",
       "</table>\n",
       "</div>"
      ],
      "text/plain": [
       "        ID               Name Sex   Age  Height  Weight  Team  NOC  \\\n",
       "319  12177  Ricardo Blas, Jr.   M  21.0   183.0   214.0  Guam  GUM   \n",
       "320  12177  Ricardo Blas, Jr.   M  25.0   183.0   214.0  Guam  GUM   \n",
       "\n",
       "           Games    Year  Season     City Sport                   Event Medal  \n",
       "319  2008 Summer  2008.0  Summer  Beijing  Judo  Judo Men's Heavyweight   NaN  \n",
       "320  2012 Summer  2012.0  Summer   London  Judo  Judo Men's Heavyweight   NaN  "
      ]
     },
     "execution_count": 564,
     "metadata": {},
     "output_type": "execute_result"
    }
   ],
   "source": [
    "olympics[olympics['Weight'] == 214]"
   ]
  },
  {
   "cell_type": "code",
   "execution_count": 565,
   "id": "12760fa7",
   "metadata": {},
   "outputs": [
    {
     "data": {
      "text/plain": [
       "<AxesSubplot: >"
      ]
     },
     "execution_count": 565,
     "metadata": {},
     "output_type": "execute_result"
    },
    {
     "data": {
      "image/png": "[encoded data removed]",
      "text/plain": [
       "<Figure size 640x480 with 1 Axes>"
      ]
     },
     "metadata": {},
     "output_type": "display_data"
    }
   ],
   "source": [
    "olympics['Weight'].hist(bins=50)"
   ]
  },
  {
   "cell_type": "markdown",
   "id": "f355b7e3",
   "metadata": {},
   "source": [
    "Looks like it is real data about weight.\n",
    "\n",
    "Let's see on descriptive statistics one more time:"
   ]
  },
  {
   "cell_type": "code",
   "execution_count": 566,
   "id": "791e2099",
   "metadata": {},
   "outputs": [
    {
     "data": {
      "text/html": [
       "<div>\n",
       "<style scoped>\n",
       "    .dataframe tbody tr th:only-of-type {\n",
       "        vertical-align: middle;\n",
       "    }\n",
       "\n",
       "    .dataframe tbody tr th {\n",
       "        vertical-align: top;\n",
       "    }\n",
       "\n",
       "    .dataframe thead th {\n",
       "        text-align: right;\n",
       "    }\n",
       "</style>\n",
       "<table border=\"1\" class=\"dataframe\">\n",
       "  <thead>\n",
       "    <tr style=\"text-align: right;\">\n",
       "      <th></th>\n",
       "      <th>ID</th>\n",
       "      <th>Age</th>\n",
       "      <th>Height</th>\n",
       "      <th>Weight</th>\n",
       "      <th>Year</th>\n",
       "    </tr>\n",
       "  </thead>\n",
       "  <tbody>\n",
       "    <tr>\n",
       "      <th>count</th>\n",
       "      <td>271108.000000</td>\n",
       "      <td>261634.000000</td>\n",
       "      <td>210939.000000</td>\n",
       "      <td>208235.000000</td>\n",
       "      <td>271108.000000</td>\n",
       "    </tr>\n",
       "    <tr>\n",
       "      <th>mean</th>\n",
       "      <td>68249.031718</td>\n",
       "      <td>25.556891</td>\n",
       "      <td>175.339104</td>\n",
       "      <td>70.702744</td>\n",
       "      <td>1978.378314</td>\n",
       "    </tr>\n",
       "    <tr>\n",
       "      <th>std</th>\n",
       "      <td>39022.238707</td>\n",
       "      <td>6.393601</td>\n",
       "      <td>10.518534</td>\n",
       "      <td>14.348223</td>\n",
       "      <td>29.877579</td>\n",
       "    </tr>\n",
       "    <tr>\n",
       "      <th>min</th>\n",
       "      <td>1.000000</td>\n",
       "      <td>10.000000</td>\n",
       "      <td>127.000000</td>\n",
       "      <td>25.000000</td>\n",
       "      <td>1896.000000</td>\n",
       "    </tr>\n",
       "    <tr>\n",
       "      <th>25%</th>\n",
       "      <td>34643.000000</td>\n",
       "      <td>21.000000</td>\n",
       "      <td>168.000000</td>\n",
       "      <td>60.000000</td>\n",
       "      <td>1960.000000</td>\n",
       "    </tr>\n",
       "    <tr>\n",
       "      <th>50%</th>\n",
       "      <td>68205.000000</td>\n",
       "      <td>24.000000</td>\n",
       "      <td>175.000000</td>\n",
       "      <td>70.000000</td>\n",
       "      <td>1988.000000</td>\n",
       "    </tr>\n",
       "    <tr>\n",
       "      <th>75%</th>\n",
       "      <td>102097.000000</td>\n",
       "      <td>28.000000</td>\n",
       "      <td>183.000000</td>\n",
       "      <td>79.000000</td>\n",
       "      <td>2002.000000</td>\n",
       "    </tr>\n",
       "    <tr>\n",
       "      <th>max</th>\n",
       "      <td>135571.000000</td>\n",
       "      <td>97.000000</td>\n",
       "      <td>226.000000</td>\n",
       "      <td>214.000000</td>\n",
       "      <td>2016.000000</td>\n",
       "    </tr>\n",
       "  </tbody>\n",
       "</table>\n",
       "</div>"
      ],
      "text/plain": [
       "                  ID            Age         Height         Weight  \\\n",
       "count  271108.000000  261634.000000  210939.000000  208235.000000   \n",
       "mean    68249.031718      25.556891     175.339104      70.702744   \n",
       "std     39022.238707       6.393601      10.518534      14.348223   \n",
       "min         1.000000      10.000000     127.000000      25.000000   \n",
       "25%     34643.000000      21.000000     168.000000      60.000000   \n",
       "50%     68205.000000      24.000000     175.000000      70.000000   \n",
       "75%    102097.000000      28.000000     183.000000      79.000000   \n",
       "max    135571.000000      97.000000     226.000000     214.000000   \n",
       "\n",
       "                Year  \n",
       "count  271108.000000  \n",
       "mean     1978.378314  \n",
       "std        29.877579  \n",
       "min      1896.000000  \n",
       "25%      1960.000000  \n",
       "50%      1988.000000  \n",
       "75%      2002.000000  \n",
       "max      2016.000000  "
      ]
     },
     "execution_count": 566,
     "metadata": {},
     "output_type": "execute_result"
    }
   ],
   "source": [
    "olympics.describe()"
   ]
  },
  {
   "cell_type": "markdown",
   "id": "0dcdc486",
   "metadata": {},
   "source": [
    "Now it looks great."
   ]
  },
  {
   "cell_type": "markdown",
   "id": "e92d4a01",
   "metadata": {},
   "source": [
    "# Main tasks"
   ]
  },
  {
   "cell_type": "markdown",
   "id": "0699f79d",
   "metadata": {},
   "source": [
    "### Task 3"
   ]
  },
  {
   "cell_type": "code",
   "execution_count": 567,
   "id": "ab676a19",
   "metadata": {},
   "outputs": [
    {
     "name": "stdout",
     "output_type": "stream",
     "text": [
      "Age of youngest female athlete in 1992: 12.0\n"
     ]
    }
   ],
   "source": [
    "youngest_fem_1992 = min(olympics[(olympics['Year'] == 1992) & (olympics['Sex'] == 'F')]['Age'])\n",
    "print('Age of youngest female athlete in 1992:', youngest_fem_1992)"
   ]
  },
  {
   "cell_type": "code",
   "execution_count": 568,
   "id": "1a6b4441",
   "metadata": {},
   "outputs": [
    {
     "name": "stdout",
     "output_type": "stream",
     "text": [
      "Age of youngest male athlete in 1992: 11.0\n"
     ]
    }
   ],
   "source": [
    "youngest_male_1992 = min(olympics[(olympics['Year'] == 1992) & (olympics['Sex'] == 'M')]['Age'])\n",
    "print('Age of youngest male athlete in 1992:', youngest_male_1992)"
   ]
  },
  {
   "cell_type": "markdown",
   "id": "f05ab289",
   "metadata": {},
   "source": [
    "### Task 4"
   ]
  },
  {
   "cell_type": "code",
   "execution_count": 569,
   "id": "ad35e0a1",
   "metadata": {},
   "outputs": [
    {
     "name": "stdout",
     "output_type": "stream",
     "text": [
      "Mean of \"Height\" for female: 167.8398144722897\n",
      "Std of \"Height\" for female: 8.77859349987673\n"
     ]
    }
   ],
   "source": [
    "mean_height_fem = olympics[olympics['Sex'] == 'F']['Height'].mean()\n",
    "std_height_fem = olympics[olympics['Sex'] == 'F']['Height'].std()\n",
    "\n",
    "print(f'Mean of \"Height\" for female: {mean_height_fem}', \n",
    "      f'Std of \"Height\" for female: {std_height_fem}', sep='\\n')"
   ]
  },
  {
   "cell_type": "code",
   "execution_count": 570,
   "id": "be24cbdd",
   "metadata": {},
   "outputs": [
    {
     "name": "stdout",
     "output_type": "stream",
     "text": [
      "Mean of \"Height\" for male: 178.85861956075033\n",
      "Std of \"Height\" for male: 9.360377299680854\n"
     ]
    }
   ],
   "source": [
    "mean_height_male = olympics[olympics['Sex'] == 'M']['Height'].mean()\n",
    "std_height_male = olympics[olympics['Sex'] == 'M']['Height'].std()\n",
    "\n",
    "print(f'Mean of \"Height\" for male: {mean_height_male}', \n",
    "      f'Std of \"Height\" for male: {std_height_male}', sep='\\n')"
   ]
  },
  {
   "cell_type": "markdown",
   "id": "3aba96c1",
   "metadata": {},
   "source": [
    "### Task 5"
   ]
  },
  {
   "cell_type": "code",
   "execution_count": 571,
   "id": "77b491a2",
   "metadata": {},
   "outputs": [
    {
     "name": "stdout",
     "output_type": "stream",
     "text": [
      "Mean of Height for tennis female athletes in 2000: 171.8\n",
      "Std of Height for tennis female athletes in 2000: 6.5\n"
     ]
    }
   ],
   "source": [
    "mean_height_tennis_fem_2000 = olympics[(olympics['Sex'] == 'F') & \\\n",
    "                                       (olympics['Sport'] == 'Tennis') & \\\n",
    "                                       (olympics['Year'] == 2000)]['Height'].mean().round(1)\n",
    "\n",
    "std_height_tennis_fem_2000 = olympics[(olympics['Sex'] == 'F') & \\\n",
    "                                      (olympics['Sport'] == 'Tennis') & \\\n",
    "                                      (olympics['Year'] == 2000)]['Height'].std().round(1)\n",
    "\n",
    "print(f'Mean of Height for tennis female athletes in 2000: {mean_height_tennis_fem_2000}', \\\n",
    "     f'Std of Height for tennis female athletes in 2000: {std_height_tennis_fem_2000}', sep='\\n')"
   ]
  },
  {
   "cell_type": "markdown",
   "id": "9ee3f102",
   "metadata": {},
   "source": [
    "### Task 6"
   ]
  },
  {
   "cell_type": "code",
   "execution_count": 572,
   "id": "ad6961ab",
   "metadata": {},
   "outputs": [
    {
     "name": "stdout",
     "output_type": "stream",
     "text": [
      "The sport in which the heaviest athlete competed at the 2006 Olympics: Skeleton\n"
     ]
    }
   ],
   "source": [
    "weight_max_2006 = olympics[(olympics['Year'] == 2006)]['Weight'].max()\n",
    "\n",
    "sporttype_high_weight_athlete_2006 = olympics[(olympics['Year'] == 2006) & \\\n",
    "                                              (olympics['Weight'] == weight_max_2006)]['Sport'].values[0]\n",
    "\n",
    "print('The sport in which the heaviest athlete competed at the 2006 Olympics:', sporttype_high_weight_athlete_2006)"
   ]
  },
  {
   "cell_type": "markdown",
   "id": "0d50bf27",
   "metadata": {},
   "source": [
    "### Task 7"
   ]
  },
  {
   "cell_type": "code",
   "execution_count": 573,
   "id": "ec49bff5",
   "metadata": {},
   "outputs": [
    {
     "name": "stdout",
     "output_type": "stream",
     "text": [
      "Number of gold medals won by women from 1980 to 2010: 2249\n"
     ]
    }
   ],
   "source": [
    "gold_female_1980_2010 = len(olympics[(olympics['Year'] >= 1980) & \\\n",
    "                                     (olympics['Year'] <= 2010) & \\\n",
    "                                     (olympics['Sex'] == 'F') & \\\n",
    "                                     (olympics['Medal'] == 'Gold')])\n",
    "\n",
    "print('Number of gold medals won by women from 1980 to 2010:', gold_female_1980_2010)"
   ]
  },
  {
   "cell_type": "markdown",
   "id": "7ed33ad7",
   "metadata": {},
   "source": [
    "### Task 8"
   ]
  },
  {
   "cell_type": "code",
   "execution_count": 574,
   "id": "5d2d3473",
   "metadata": {},
   "outputs": [
    {
     "name": "stdout",
     "output_type": "stream",
     "text": [
      "Athlete John Aalberg participated in the Olympic Games in different years: 2\n"
     ]
    }
   ],
   "source": [
    "john_aalberg_years = len(olympics[olympics['Name'] == 'John Aalberg']['Year'].unique())\n",
    "\n",
    "print('Athlete John Aalberg participated in the Olympic Games in different years:', john_aalberg_years)"
   ]
  },
  {
   "cell_type": "markdown",
   "id": "3784c0dd",
   "metadata": {},
   "source": [
    "### Task 9"
   ]
  },
  {
   "cell_type": "code",
   "execution_count": 575,
   "id": "eb493259",
   "metadata": {},
   "outputs": [],
   "source": [
    "olympics_2008 = olympics[olympics['Year'] == 2008]"
   ]
  },
  {
   "cell_type": "markdown",
   "id": "1835785f",
   "metadata": {},
   "source": [
    "Due to the difference between the boundaries given in the task and how they are defined by python, we will set the appropriate boundaries for selecting groups and non-included boundaries in the description."
   ]
  },
  {
   "cell_type": "code",
   "execution_count": 576,
   "id": "98b03855",
   "metadata": {},
   "outputs": [],
   "source": [
    "cut_labels = ['15-24', '25-34', '35-44', '45-55']\n",
    "cut_bins = [14, 24, 34, 44, 55]"
   ]
  },
  {
   "cell_type": "code",
   "execution_count": 577,
   "id": "4e292f34",
   "metadata": {
    "scrolled": false
   },
   "outputs": [
    {
     "data": {
      "text/plain": [
       "<AxesSubplot: >"
      ]
     },
     "execution_count": 577,
     "metadata": {},
     "output_type": "execute_result"
    },
    {
     "data": {
      "image/png": "[encoded data removed]",
      "text/plain": [
       "<Figure size 640x480 with 1 Axes>"
      ]
     },
     "metadata": {},
     "output_type": "display_data"
    }
   ],
   "source": [
    "pd.cut(olympics_2008['Age'], bins=cut_bins, labels=cut_labels).hist()"
   ]
  },
  {
   "cell_type": "markdown",
   "id": "af47e16a",
   "metadata": {},
   "source": [
    "The least and most represented (by number of participants) age groups of athletes at the 2008 Olympics:\n",
    "\n",
    "The most represented: \\[15-25), \\[25-35)     \n",
    "The least represented: \\[35-45), \\[45-55]"
   ]
  },
  {
   "cell_type": "markdown",
   "id": "163f3907",
   "metadata": {},
   "source": [
    "### Task 10"
   ]
  },
  {
   "cell_type": "code",
   "execution_count": 578,
   "id": "1a55ecb2",
   "metadata": {},
   "outputs": [
    {
     "name": "stdout",
     "output_type": "stream",
     "text": [
      "The number of sports in the 2002 Olympics has changed compared to the 1994 Olympics on: 3\n"
     ]
    }
   ],
   "source": [
    "sporttypes_2002_1994 = len(olympics[olympics['Year'] == 2002]['Sport'].unique()) - len(olympics[olympics['Year'] == 1994]['Sport'].unique())\n",
    "\n",
    "print('The number of sports in the 2002 Olympics has changed compared to the 1994 Olympics on:', sporttypes_2002_1994)"
   ]
  },
  {
   "cell_type": "markdown",
   "id": "d0649c28",
   "metadata": {},
   "source": [
    "### Task 11"
   ]
  },
  {
   "cell_type": "code",
   "execution_count": 579,
   "id": "8d05c344",
   "metadata": {},
   "outputs": [],
   "source": [
    "winter = olympics[olympics['Season'] == 'Winter']\n",
    "summer = olympics[olympics['Season'] == 'Summer']"
   ]
  },
  {
   "cell_type": "code",
   "execution_count": 580,
   "id": "afa900cb",
   "metadata": {},
   "outputs": [],
   "source": [
    "winter_group = winter.groupby('Medal')['Team'].value_counts().to_frame()\n",
    "summer_group = summer.groupby('Medal')['Team'].value_counts().to_frame()"
   ]
  },
  {
   "cell_type": "code",
   "execution_count": 581,
   "id": "de3598cf",
   "metadata": {},
   "outputs": [
    {
     "data": {
      "text/html": [
       "<div>\n",
       "<style scoped>\n",
       "    .dataframe tbody tr th:only-of-type {\n",
       "        vertical-align: middle;\n",
       "    }\n",
       "\n",
       "    .dataframe tbody tr th {\n",
       "        vertical-align: top;\n",
       "    }\n",
       "\n",
       "    .dataframe thead th {\n",
       "        text-align: right;\n",
       "    }\n",
       "</style>\n",
       "<table border=\"1\" class=\"dataframe\">\n",
       "  <thead>\n",
       "    <tr style=\"text-align: right;\">\n",
       "      <th></th>\n",
       "      <th></th>\n",
       "      <th>Team</th>\n",
       "    </tr>\n",
       "    <tr>\n",
       "      <th>Medal</th>\n",
       "      <th>Team</th>\n",
       "      <th></th>\n",
       "    </tr>\n",
       "  </thead>\n",
       "  <tbody>\n",
       "    <tr>\n",
       "      <th rowspan=\"5\" valign=\"top\">Bronze</th>\n",
       "      <th>Finland</th>\n",
       "      <td>215</td>\n",
       "    </tr>\n",
       "    <tr>\n",
       "      <th>Sweden</th>\n",
       "      <td>177</td>\n",
       "    </tr>\n",
       "    <tr>\n",
       "      <th>Norway</th>\n",
       "      <td>127</td>\n",
       "    </tr>\n",
       "    <tr>\n",
       "      <th>United States</th>\n",
       "      <td>121</td>\n",
       "    </tr>\n",
       "    <tr>\n",
       "      <th>Austria</th>\n",
       "      <td>97</td>\n",
       "    </tr>\n",
       "    <tr>\n",
       "      <th>...</th>\n",
       "      <th>...</th>\n",
       "      <td>...</td>\n",
       "    </tr>\n",
       "    <tr>\n",
       "      <th rowspan=\"5\" valign=\"top\">Silver</th>\n",
       "      <th>Slovakia</th>\n",
       "      <td>2</td>\n",
       "    </tr>\n",
       "    <tr>\n",
       "      <th>Unified Team-2</th>\n",
       "      <td>2</td>\n",
       "    </tr>\n",
       "    <tr>\n",
       "      <th>New Zealand</th>\n",
       "      <td>1</td>\n",
       "    </tr>\n",
       "    <tr>\n",
       "      <th>North Korea</th>\n",
       "      <td>1</td>\n",
       "    </tr>\n",
       "    <tr>\n",
       "      <th>Ukraine</th>\n",
       "      <td>1</td>\n",
       "    </tr>\n",
       "  </tbody>\n",
       "</table>\n",
       "<p>188 rows × 1 columns</p>\n",
       "</div>"
      ],
      "text/plain": [
       "                       Team\n",
       "Medal  Team                \n",
       "Bronze Finland          215\n",
       "       Sweden           177\n",
       "       Norway           127\n",
       "       United States    121\n",
       "       Austria           97\n",
       "...                     ...\n",
       "Silver Slovakia           2\n",
       "       Unified Team-2     2\n",
       "       New Zealand        1\n",
       "       North Korea        1\n",
       "       Ukraine            1\n",
       "\n",
       "[188 rows x 1 columns]"
      ]
     },
     "execution_count": 581,
     "metadata": {},
     "output_type": "execute_result"
    }
   ],
   "source": [
    "winter_group"
   ]
  },
  {
   "cell_type": "code",
   "execution_count": 582,
   "id": "fb85e8b7",
   "metadata": {},
   "outputs": [
    {
     "data": {
      "text/html": [
       "<div>\n",
       "<style scoped>\n",
       "    .dataframe tbody tr th:only-of-type {\n",
       "        vertical-align: middle;\n",
       "    }\n",
       "\n",
       "    .dataframe tbody tr th {\n",
       "        vertical-align: top;\n",
       "    }\n",
       "\n",
       "    .dataframe thead th {\n",
       "        text-align: right;\n",
       "    }\n",
       "</style>\n",
       "<table border=\"1\" class=\"dataframe\">\n",
       "  <thead>\n",
       "    <tr style=\"text-align: right;\">\n",
       "      <th></th>\n",
       "      <th>Team</th>\n",
       "    </tr>\n",
       "    <tr>\n",
       "      <th>Team</th>\n",
       "      <th></th>\n",
       "    </tr>\n",
       "  </thead>\n",
       "  <tbody>\n",
       "    <tr>\n",
       "      <th>Finland</th>\n",
       "      <td>215</td>\n",
       "    </tr>\n",
       "    <tr>\n",
       "      <th>Sweden</th>\n",
       "      <td>177</td>\n",
       "    </tr>\n",
       "    <tr>\n",
       "      <th>Norway</th>\n",
       "      <td>127</td>\n",
       "    </tr>\n",
       "  </tbody>\n",
       "</table>\n",
       "</div>"
      ],
      "text/plain": [
       "         Team\n",
       "Team         \n",
       "Finland   215\n",
       "Sweden    177\n",
       "Norway    127"
      ]
     },
     "execution_count": 582,
     "metadata": {},
     "output_type": "execute_result"
    }
   ],
   "source": [
    "winter_group.loc['Bronze'].head(3)"
   ]
  },
  {
   "cell_type": "code",
   "execution_count": 583,
   "id": "bc295acb",
   "metadata": {},
   "outputs": [
    {
     "data": {
      "text/html": [
       "<div>\n",
       "<style scoped>\n",
       "    .dataframe tbody tr th:only-of-type {\n",
       "        vertical-align: middle;\n",
       "    }\n",
       "\n",
       "    .dataframe tbody tr th {\n",
       "        vertical-align: top;\n",
       "    }\n",
       "\n",
       "    .dataframe thead th {\n",
       "        text-align: right;\n",
       "    }\n",
       "</style>\n",
       "<table border=\"1\" class=\"dataframe\">\n",
       "  <thead>\n",
       "    <tr style=\"text-align: right;\">\n",
       "      <th></th>\n",
       "      <th>Team</th>\n",
       "    </tr>\n",
       "    <tr>\n",
       "      <th>Team</th>\n",
       "      <th></th>\n",
       "    </tr>\n",
       "  </thead>\n",
       "  <tbody>\n",
       "    <tr>\n",
       "      <th>United States</th>\n",
       "      <td>271</td>\n",
       "    </tr>\n",
       "    <tr>\n",
       "      <th>Canada</th>\n",
       "      <td>189</td>\n",
       "    </tr>\n",
       "    <tr>\n",
       "      <th>Norway</th>\n",
       "      <td>165</td>\n",
       "    </tr>\n",
       "  </tbody>\n",
       "</table>\n",
       "</div>"
      ],
      "text/plain": [
       "               Team\n",
       "Team               \n",
       "United States   271\n",
       "Canada          189\n",
       "Norway          165"
      ]
     },
     "execution_count": 583,
     "metadata": {},
     "output_type": "execute_result"
    }
   ],
   "source": [
    "winter_group.loc['Silver'].head(3)"
   ]
  },
  {
   "cell_type": "code",
   "execution_count": 584,
   "id": "890cf048",
   "metadata": {},
   "outputs": [
    {
     "data": {
      "text/html": [
       "<div>\n",
       "<style scoped>\n",
       "    .dataframe tbody tr th:only-of-type {\n",
       "        vertical-align: middle;\n",
       "    }\n",
       "\n",
       "    .dataframe tbody tr th {\n",
       "        vertical-align: top;\n",
       "    }\n",
       "\n",
       "    .dataframe thead th {\n",
       "        text-align: right;\n",
       "    }\n",
       "</style>\n",
       "<table border=\"1\" class=\"dataframe\">\n",
       "  <thead>\n",
       "    <tr style=\"text-align: right;\">\n",
       "      <th></th>\n",
       "      <th>Team</th>\n",
       "    </tr>\n",
       "    <tr>\n",
       "      <th>Team</th>\n",
       "      <th></th>\n",
       "    </tr>\n",
       "  </thead>\n",
       "  <tbody>\n",
       "    <tr>\n",
       "      <th>Canada</th>\n",
       "      <td>289</td>\n",
       "    </tr>\n",
       "    <tr>\n",
       "      <th>Soviet Union</th>\n",
       "      <td>228</td>\n",
       "    </tr>\n",
       "    <tr>\n",
       "      <th>Norway</th>\n",
       "      <td>151</td>\n",
       "    </tr>\n",
       "  </tbody>\n",
       "</table>\n",
       "</div>"
      ],
      "text/plain": [
       "              Team\n",
       "Team              \n",
       "Canada         289\n",
       "Soviet Union   228\n",
       "Norway         151"
      ]
     },
     "execution_count": 584,
     "metadata": {},
     "output_type": "execute_result"
    }
   ],
   "source": [
    "winter_group.loc['Gold'].head(3)"
   ]
  },
  {
   "cell_type": "code",
   "execution_count": 585,
   "id": "641dcd64",
   "metadata": {},
   "outputs": [
    {
     "data": {
      "text/html": [
       "<div>\n",
       "<style scoped>\n",
       "    .dataframe tbody tr th:only-of-type {\n",
       "        vertical-align: middle;\n",
       "    }\n",
       "\n",
       "    .dataframe tbody tr th {\n",
       "        vertical-align: top;\n",
       "    }\n",
       "\n",
       "    .dataframe thead th {\n",
       "        text-align: right;\n",
       "    }\n",
       "</style>\n",
       "<table border=\"1\" class=\"dataframe\">\n",
       "  <thead>\n",
       "    <tr style=\"text-align: right;\">\n",
       "      <th></th>\n",
       "      <th>Team</th>\n",
       "    </tr>\n",
       "    <tr>\n",
       "      <th>Team</th>\n",
       "      <th></th>\n",
       "    </tr>\n",
       "  </thead>\n",
       "  <tbody>\n",
       "    <tr>\n",
       "      <th>United States</th>\n",
       "      <td>1112</td>\n",
       "    </tr>\n",
       "    <tr>\n",
       "      <th>Germany</th>\n",
       "      <td>610</td>\n",
       "    </tr>\n",
       "    <tr>\n",
       "      <th>Soviet Union</th>\n",
       "      <td>596</td>\n",
       "    </tr>\n",
       "  </tbody>\n",
       "</table>\n",
       "</div>"
      ],
      "text/plain": [
       "               Team\n",
       "Team               \n",
       "United States  1112\n",
       "Germany         610\n",
       "Soviet Union    596"
      ]
     },
     "execution_count": 585,
     "metadata": {},
     "output_type": "execute_result"
    }
   ],
   "source": [
    "summer_group.loc['Bronze'].head(3)"
   ]
  },
  {
   "cell_type": "code",
   "execution_count": 586,
   "id": "9e31831c",
   "metadata": {},
   "outputs": [
    {
     "data": {
      "text/html": [
       "<div>\n",
       "<style scoped>\n",
       "    .dataframe tbody tr th:only-of-type {\n",
       "        vertical-align: middle;\n",
       "    }\n",
       "\n",
       "    .dataframe tbody tr th {\n",
       "        vertical-align: top;\n",
       "    }\n",
       "\n",
       "    .dataframe thead th {\n",
       "        text-align: right;\n",
       "    }\n",
       "</style>\n",
       "<table border=\"1\" class=\"dataframe\">\n",
       "  <thead>\n",
       "    <tr style=\"text-align: right;\">\n",
       "      <th></th>\n",
       "      <th>Team</th>\n",
       "    </tr>\n",
       "    <tr>\n",
       "      <th>Team</th>\n",
       "      <th></th>\n",
       "    </tr>\n",
       "  </thead>\n",
       "  <tbody>\n",
       "    <tr>\n",
       "      <th>United States</th>\n",
       "      <td>1241</td>\n",
       "    </tr>\n",
       "    <tr>\n",
       "      <th>Soviet Union</th>\n",
       "      <td>635</td>\n",
       "    </tr>\n",
       "    <tr>\n",
       "      <th>Great Britain</th>\n",
       "      <td>576</td>\n",
       "    </tr>\n",
       "  </tbody>\n",
       "</table>\n",
       "</div>"
      ],
      "text/plain": [
       "               Team\n",
       "Team               \n",
       "United States  1241\n",
       "Soviet Union    635\n",
       "Great Britain   576"
      ]
     },
     "execution_count": 586,
     "metadata": {},
     "output_type": "execute_result"
    }
   ],
   "source": [
    "summer_group.loc['Silver'].head(3)"
   ]
  },
  {
   "cell_type": "code",
   "execution_count": 587,
   "id": "9ade610e",
   "metadata": {},
   "outputs": [
    {
     "data": {
      "text/html": [
       "<div>\n",
       "<style scoped>\n",
       "    .dataframe tbody tr th:only-of-type {\n",
       "        vertical-align: middle;\n",
       "    }\n",
       "\n",
       "    .dataframe tbody tr th {\n",
       "        vertical-align: top;\n",
       "    }\n",
       "\n",
       "    .dataframe thead th {\n",
       "        text-align: right;\n",
       "    }\n",
       "</style>\n",
       "<table border=\"1\" class=\"dataframe\">\n",
       "  <thead>\n",
       "    <tr style=\"text-align: right;\">\n",
       "      <th></th>\n",
       "      <th>Team</th>\n",
       "    </tr>\n",
       "    <tr>\n",
       "      <th>Team</th>\n",
       "      <th></th>\n",
       "    </tr>\n",
       "  </thead>\n",
       "  <tbody>\n",
       "    <tr>\n",
       "      <th>United States</th>\n",
       "      <td>2333</td>\n",
       "    </tr>\n",
       "    <tr>\n",
       "      <th>Soviet Union</th>\n",
       "      <td>830</td>\n",
       "    </tr>\n",
       "    <tr>\n",
       "      <th>Germany</th>\n",
       "      <td>564</td>\n",
       "    </tr>\n",
       "  </tbody>\n",
       "</table>\n",
       "</div>"
      ],
      "text/plain": [
       "               Team\n",
       "Team               \n",
       "United States  2333\n",
       "Soviet Union    830\n",
       "Germany         564"
      ]
     },
     "execution_count": 587,
     "metadata": {},
     "output_type": "execute_result"
    }
   ],
   "source": [
    "summer_group.loc['Gold'].head(3)"
   ]
  },
  {
   "cell_type": "markdown",
   "id": "cd18be09",
   "metadata": {},
   "source": [
    "### Task 12"
   ]
  },
  {
   "cell_type": "markdown",
   "id": "4a76714d",
   "metadata": {},
   "source": [
    "\"Height\" z-scores normalization:"
   ]
  },
  {
   "cell_type": "code",
   "execution_count": 588,
   "id": "aab6c6ad",
   "metadata": {},
   "outputs": [],
   "source": [
    "height_mean = olympics['Height'].mean()\n",
    "height_std = olympics['Height'].std()\n",
    "Height_z_scores = olympics['Height'].apply(lambda x: (x - height_mean) / height_std)"
   ]
  },
  {
   "cell_type": "code",
   "execution_count": 589,
   "id": "793568cf",
   "metadata": {},
   "outputs": [
    {
     "data": {
      "text/plain": [
       "0        1.108605\n",
       "1        1.108605\n",
       "2        1.108605\n",
       "3        1.108605\n",
       "4        1.393816\n",
       "           ...   \n",
       "22386    0.348042\n",
       "22387    0.062832\n",
       "22388    0.062832\n",
       "22389    0.918464\n",
       "22390    0.918464\n",
       "Name: Height, Length: 271108, dtype: float64"
      ]
     },
     "execution_count": 589,
     "metadata": {},
     "output_type": "execute_result"
    }
   ],
   "source": [
    "Height_z_scores"
   ]
  },
  {
   "cell_type": "markdown",
   "id": "d1c82789",
   "metadata": {},
   "source": [
    "### Task 13"
   ]
  },
  {
   "cell_type": "markdown",
   "id": "1b3d1947",
   "metadata": {},
   "source": [
    "\"Height\" min-max normalization:"
   ]
  },
  {
   "cell_type": "code",
   "execution_count": 590,
   "id": "059f4c52",
   "metadata": {},
   "outputs": [],
   "source": [
    "height_min = olympics['Height'].min()\n",
    "height_max = olympics['Height'].max()"
   ]
  },
  {
   "cell_type": "code",
   "execution_count": 591,
   "id": "5c74fd5a",
   "metadata": {},
   "outputs": [],
   "source": [
    "Height_min_max_scaled = olympics['Height'].apply(lambda x: (x - height_min) / (height_max - height_min))"
   ]
  },
  {
   "cell_type": "code",
   "execution_count": 592,
   "id": "3a90ded2",
   "metadata": {},
   "outputs": [
    {
     "data": {
      "text/plain": [
       "0        0.606061\n",
       "1        0.606061\n",
       "2        0.606061\n",
       "3        0.606061\n",
       "4        0.636364\n",
       "           ...   \n",
       "22386    0.525253\n",
       "22387    0.494949\n",
       "22388    0.494949\n",
       "22389    0.585859\n",
       "22390    0.585859\n",
       "Name: Height, Length: 271108, dtype: float64"
      ]
     },
     "execution_count": 592,
     "metadata": {},
     "output_type": "execute_result"
    }
   ],
   "source": [
    "Height_min_max_scaled"
   ]
  },
  {
   "cell_type": "markdown",
   "id": "8368c03b",
   "metadata": {},
   "source": [
    "### Task 14"
   ]
  },
  {
   "cell_type": "markdown",
   "id": "56073dd8",
   "metadata": {},
   "source": [
    "Comparing height, weight and age of male and female participated in winter olympic games."
   ]
  },
  {
   "cell_type": "markdown",
   "id": "818e97ca",
   "metadata": {},
   "source": [
    "#### Height:"
   ]
  },
  {
   "cell_type": "code",
   "execution_count": 593,
   "id": "04fb6f59",
   "metadata": {},
   "outputs": [],
   "source": [
    "winter_male = winter[winter['Sex'] == 'M']\n",
    "winter_female = winter[winter['Sex'] == 'F']"
   ]
  },
  {
   "cell_type": "markdown",
   "id": "d29127b0",
   "metadata": {},
   "source": [
    "We need to compare two independent groups. To choose the test we need to check our variables for normal distribution:"
   ]
  },
  {
   "cell_type": "code",
   "execution_count": 594,
   "id": "5f06928a",
   "metadata": {},
   "outputs": [
    {
     "name": "stdout",
     "output_type": "stream",
     "text": [
      "Shapiro test for normal distribution:\n",
      "Male height statistic: nan with p-value = 1.0\n",
      "Female height statistic: nan with p-value = 1.0\n"
     ]
    },
    {
     "name": "stderr",
     "output_type": "stream",
     "text": [
      "/opt/homebrew/lib/python3.10/site-packages/scipy/stats/_morestats.py:1800: UserWarning: p-value may not be accurate for N > 5000.\n",
      "  warnings.warn(\"p-value may not be accurate for N > 5000.\")\n"
     ]
    }
   ],
   "source": [
    "shapiro_winter_male_height = st.shapiro(winter_male['Height'])\n",
    "shapiro_winter_female_height = st.shapiro(winter_female['Height'])\n",
    "\n",
    "print('Shapiro test for normal distribution:', \\\n",
    "      f'Male height statistic: {round(shapiro_winter_male_height[0], 3)} with p-value = {round(shapiro_winter_male_height[1], 3)}', \\\n",
    "      f'Female height statistic: {round(shapiro_winter_female_height[0], 3)} with p-value = {round(shapiro_winter_female_height[1], 3)}', \\\n",
    "      sep='\\n')"
   ]
  },
  {
   "cell_type": "markdown",
   "id": "580d5b81",
   "metadata": {},
   "source": [
    "And for equal variances:"
   ]
  },
  {
   "cell_type": "code",
   "execution_count": 595,
   "id": "81915dfe",
   "metadata": {},
   "outputs": [
    {
     "name": "stdout",
     "output_type": "stream",
     "text": [
      "Levene's test for equality of variances:\n",
      "W = nan with p-value = nan\n"
     ]
    }
   ],
   "source": [
    "levene_winter_height = st.levene(winter_male['Height'], winter_female['Height'])\n",
    "\n",
    "print('Levene\\'s test for equality of variances:', \\\n",
    "      f'W = {round(levene_winter_height[0], 3)} with p-value = {round(levene_winter_height[1], 3)}', \\\n",
    "      sep='\\n')"
   ]
  },
  {
   "cell_type": "markdown",
   "id": "4fb564c4",
   "metadata": {},
   "source": [
    "Samples haven't normal distributions and equal variances so we can't use t-test for independent samples.   \n",
    "Then we need to use something like Mann-Whitney test:"
   ]
  },
  {
   "cell_type": "code",
   "execution_count": 596,
   "id": "d81cfdbd",
   "metadata": {},
   "outputs": [
    {
     "name": "stdout",
     "output_type": "stream",
     "text": [
      "Mann-Whithney test:\n",
      "U = nan with p-value = nan\n"
     ]
    }
   ],
   "source": [
    "mw_winter_height = st.mannwhitneyu(winter_male['Height'], winter_female['Height'])\n",
    "\n",
    "print('Mann-Whithney test:', \\\n",
    "     f'U = {round(mw_winter_height[0], 3)} with p-value = {round(mw_winter_height[1], 3)}', sep='\\n')"
   ]
  },
  {
   "cell_type": "code",
   "execution_count": 597,
   "id": "9acb159f",
   "metadata": {},
   "outputs": [
    {
     "name": "stdout",
     "output_type": "stream",
     "text": [
      "p-value annotation legend:\n",
      "ns: 5.00e-02 < p <= 1.00e+00\n",
      "*: 1.00e-02 < p <= 5.00e-02\n",
      "**: 1.00e-03 < p <= 1.00e-02\n",
      "***: 1.00e-04 < p <= 1.00e-03\n",
      "****: p <= 1.00e-04\n",
      "\n",
      "M v.s. F: Mann-Whitney-Wilcoxon test two-sided with Bonferroni correction, P_val=0.000e+00 U_stat=3.296e+08\n"
     ]
    },
    {
     "data": {
      "text/plain": [
       "(<AxesSubplot: xlabel='Sex', ylabel='Height (in cm)'>,\n",
       " [<statannot.StatResult.StatResult at 0x2c4b0ba30>])"
      ]
     },
     "execution_count": 597,
     "metadata": {},
     "output_type": "execute_result"
    },
    {
     "data": {
      "image/png": "[encoded data removed]",
      "text/plain": [
       "<Figure size 640x480 with 1 Axes>"
      ]
     },
     "metadata": {},
     "output_type": "display_data"
    }
   ],
   "source": [
    "winter_height_fig = sns.boxplot(winter, x = 'Sex', y = 'Height')\n",
    "winter_height_fig.set_ylabel('Height (in cm)')\n",
    "winter_height_fig.set_xticklabels(['Male', 'Female'])\n",
    "\n",
    "add_stat_annotation(winter_height_fig, data=winter, x='Sex', y='Height',\n",
    "                    box_pairs=[(\"M\", \"F\")],\n",
    "                    test='Mann-Whitney', text_format='star', loc='inside')"
   ]
  },
  {
   "cell_type": "markdown",
   "id": "186d1c23",
   "metadata": {},
   "source": [
    "P-value < 0.05, so the difference in height between male and female athletes on winter olympics is statistically significant."
   ]
  },
  {
   "cell_type": "markdown",
   "id": "3f4ccf12",
   "metadata": {},
   "source": [
    "#### Weight:"
   ]
  },
  {
   "cell_type": "markdown",
   "id": "23e150f9",
   "metadata": {},
   "source": [
    "Check for normal distribution and equality of variances:"
   ]
  },
  {
   "cell_type": "code",
   "execution_count": 598,
   "id": "11537d6c",
   "metadata": {},
   "outputs": [
    {
     "name": "stdout",
     "output_type": "stream",
     "text": [
      "Shapiro test for normal distribution:\n",
      "Male weight statistic: nan with p-value = 1.0\n",
      "Female weight statistic: nan with p-value = 1.0\n"
     ]
    },
    {
     "name": "stderr",
     "output_type": "stream",
     "text": [
      "/opt/homebrew/lib/python3.10/site-packages/scipy/stats/_morestats.py:1800: UserWarning: p-value may not be accurate for N > 5000.\n",
      "  warnings.warn(\"p-value may not be accurate for N > 5000.\")\n"
     ]
    }
   ],
   "source": [
    "shapiro_winter_male_weight = st.shapiro(winter_male['Weight'])\n",
    "shapiro_winter_female_weight = st.shapiro(winter_female['Weight'])\n",
    "\n",
    "print('Shapiro test for normal distribution:', \\\n",
    "      f'Male weight statistic: {round(shapiro_winter_male_weight[0], 3)} with p-value = {round(shapiro_winter_male_weight[1], 3)}', \\\n",
    "      f'Female weight statistic: {round(shapiro_winter_female_weight[0], 3)} with p-value = {round(shapiro_winter_female_weight[1], 3)}', \\\n",
    "      sep='\\n')"
   ]
  },
  {
   "cell_type": "code",
   "execution_count": 599,
   "id": "eb7bcddb",
   "metadata": {},
   "outputs": [
    {
     "name": "stdout",
     "output_type": "stream",
     "text": [
      "Levene's test for equality of variances:\n",
      "W = nan with p-value = nan\n"
     ]
    }
   ],
   "source": [
    "levene_winter_weight = st.levene(winter_male['Weight'], winter_female['Weight'])\n",
    "\n",
    "print('Levene\\'s test for equality of variances:', \\\n",
    "      f'W = {round(levene_winter_weight[0], 3)} with p-value = {round(levene_winter_weight[1], 3)}', \\\n",
    "      sep='\\n')"
   ]
  },
  {
   "cell_type": "markdown",
   "id": "7b732142",
   "metadata": {},
   "source": [
    "Samples haven't normal distributions and equal variances so we can't use t-test for independent samples.\n",
    "Then we need to use something like Mann-Whitney test:"
   ]
  },
  {
   "cell_type": "code",
   "execution_count": 600,
   "id": "2ba34550",
   "metadata": {},
   "outputs": [
    {
     "name": "stdout",
     "output_type": "stream",
     "text": [
      "Mann-Whithney test:\n",
      "U = nan with p-value = nan\n"
     ]
    }
   ],
   "source": [
    "mw_winter_weight = st.mannwhitneyu(winter_male['Weight'], winter_female['Weight'])\n",
    "\n",
    "print('Mann-Whithney test:', \\\n",
    "     f'U = {round(mw_winter_weight[0], 3)} with p-value = {round(mw_winter_weight[1], 3)}', sep='\\n')"
   ]
  },
  {
   "cell_type": "code",
   "execution_count": 601,
   "id": "c2dcb24e",
   "metadata": {},
   "outputs": [
    {
     "name": "stdout",
     "output_type": "stream",
     "text": [
      "p-value annotation legend:\n",
      "ns: 5.00e-02 < p <= 1.00e+00\n",
      "*: 1.00e-02 < p <= 5.00e-02\n",
      "**: 1.00e-03 < p <= 1.00e-02\n",
      "***: 1.00e-04 < p <= 1.00e-03\n",
      "****: p <= 1.00e-04\n",
      "\n",
      "M v.s. F: Mann-Whitney-Wilcoxon test two-sided with Bonferroni correction, P_val=0.000e+00 U_stat=3.199e+08\n"
     ]
    },
    {
     "data": {
      "text/plain": [
       "(<AxesSubplot: xlabel='Sex', ylabel='Weight (in kg)'>,\n",
       " [<statannot.StatResult.StatResult at 0x2c4ae4430>])"
      ]
     },
     "execution_count": 601,
     "metadata": {},
     "output_type": "execute_result"
    },
    {
     "data": {
      "image/png": "[encoded data removed]",
      "text/plain": [
       "<Figure size 640x480 with 1 Axes>"
      ]
     },
     "metadata": {},
     "output_type": "display_data"
    }
   ],
   "source": [
    "winter_weight_fig = sns.boxplot(winter, x = 'Sex', y = 'Weight')\n",
    "winter_weight_fig.set_ylabel('Weight (in kg)')\n",
    "winter_weight_fig.set_xticklabels(['Male', 'Female'])\n",
    "\n",
    "add_stat_annotation(winter_weight_fig, data=winter, x='Sex', y='Weight',\n",
    "                    box_pairs=[(\"M\", \"F\")],\n",
    "                    test='Mann-Whitney', text_format='star', loc='inside')"
   ]
  },
  {
   "cell_type": "markdown",
   "id": "d53e61fe",
   "metadata": {},
   "source": [
    "P-value < 0.05, so the difference in weight between male and female athletes on winter olympics is statistically significant."
   ]
  },
  {
   "cell_type": "markdown",
   "id": "a9085d74",
   "metadata": {},
   "source": [
    "#### Age"
   ]
  },
  {
   "cell_type": "markdown",
   "id": "a805593a",
   "metadata": {},
   "source": [
    "Check for normal distribution and equality of variances:"
   ]
  },
  {
   "cell_type": "code",
   "execution_count": 602,
   "id": "387f3993",
   "metadata": {},
   "outputs": [
    {
     "name": "stdout",
     "output_type": "stream",
     "text": [
      "Shapiro test for normal distribution:\n",
      "Male age statistic: nan with p-value = 1.0\n",
      "Female age statistic: nan with p-value = 1.0\n"
     ]
    },
    {
     "name": "stderr",
     "output_type": "stream",
     "text": [
      "/opt/homebrew/lib/python3.10/site-packages/scipy/stats/_morestats.py:1800: UserWarning: p-value may not be accurate for N > 5000.\n",
      "  warnings.warn(\"p-value may not be accurate for N > 5000.\")\n"
     ]
    }
   ],
   "source": [
    "shapiro_winter_male_age = st.shapiro(winter_male['Age'])\n",
    "shapiro_winter_female_age = st.shapiro(winter_female['Age'])\n",
    "\n",
    "print('Shapiro test for normal distribution:', \\\n",
    "      f'Male age statistic: {round(shapiro_winter_male_age[0], 3)} with p-value = {round(shapiro_winter_male_age[1], 3)}', \\\n",
    "      f'Female age statistic: {round(shapiro_winter_female_age[0], 3)} with p-value = {round(shapiro_winter_female_age[1], 3)}', \\\n",
    "      sep='\\n')"
   ]
  },
  {
   "cell_type": "code",
   "execution_count": 603,
   "id": "194fad97",
   "metadata": {},
   "outputs": [
    {
     "name": "stdout",
     "output_type": "stream",
     "text": [
      "Levene's test for equality of variances:\n",
      "W = nan with p-value = nan\n"
     ]
    }
   ],
   "source": [
    "levene_winter_age = st.levene(winter_male['Age'], winter_female['Age'])\n",
    "\n",
    "print('Levene\\'s test for equality of variances:', \\\n",
    "      f'W = {round(levene_winter_age[0], 3)} with p-value = {round(levene_winter_age[1], 3)}', \\\n",
    "      sep='\\n')"
   ]
  },
  {
   "cell_type": "markdown",
   "id": "d5d54443",
   "metadata": {},
   "source": [
    "Samples haven't normal distributions and equal variances so we can't use t-test for independent samples.\n",
    "Then we need to use something like Mann-Whitney test:"
   ]
  },
  {
   "cell_type": "code",
   "execution_count": 604,
   "id": "a31c8afb",
   "metadata": {},
   "outputs": [
    {
     "name": "stdout",
     "output_type": "stream",
     "text": [
      "Mann-Whithney test:\n",
      "U = nan with p-value = nan\n"
     ]
    }
   ],
   "source": [
    "mw_winter_age = st.mannwhitneyu(winter_male['Age'], winter_female['Age'])\n",
    "\n",
    "print('Mann-Whithney test:', \\\n",
    "     f'U = {round(mw_winter_age[0], 3)} with p-value = {round(mw_winter_age[1], 3)}', sep='\\n')"
   ]
  },
  {
   "cell_type": "code",
   "execution_count": 605,
   "id": "6abf4d7f",
   "metadata": {},
   "outputs": [
    {
     "name": "stdout",
     "output_type": "stream",
     "text": [
      "p-value annotation legend:\n",
      "ns: 5.00e-02 < p <= 1.00e+00\n",
      "*: 1.00e-02 < p <= 5.00e-02\n",
      "**: 1.00e-03 < p <= 1.00e-02\n",
      "***: 1.00e-04 < p <= 1.00e-03\n",
      "****: p <= 1.00e-04\n",
      "\n",
      "M v.s. F: Mann-Whitney-Wilcoxon test two-sided with Bonferroni correction, P_val=4.031e-214 U_stat=2.945e+08\n"
     ]
    },
    {
     "data": {
      "text/plain": [
       "(<AxesSubplot: xlabel='Sex', ylabel='Age (in years)'>,\n",
       " [<statannot.StatResult.StatResult at 0x2c5370340>])"
      ]
     },
     "execution_count": 605,
     "metadata": {},
     "output_type": "execute_result"
    },
    {
     "data": {
      "image/png": "[encoded data removed]",
      "text/plain": [
       "<Figure size 640x480 with 1 Axes>"
      ]
     },
     "metadata": {},
     "output_type": "display_data"
    }
   ],
   "source": [
    "winter_age_fig = sns.boxplot(winter, x = 'Sex', y = 'Age')\n",
    "winter_age_fig.set_ylabel('Age (in years)')\n",
    "winter_age_fig.set_xticklabels(['Male', 'Female'])\n",
    "\n",
    "add_stat_annotation(winter_age_fig, data=winter, x='Sex', y='Age',\n",
    "                    box_pairs=[(\"M\", \"F\")],\n",
    "                    test='Mann-Whitney', text_format='star', loc='inside')"
   ]
  },
  {
   "cell_type": "markdown",
   "id": "4523ec65",
   "metadata": {},
   "source": [
    "P-value < 0.05, so the difference in age between male and female athletes on winter olympics is statistically significant."
   ]
  },
  {
   "cell_type": "markdown",
   "id": "4c17cede",
   "metadata": {},
   "source": [
    "### Task 15"
   ]
  },
  {
   "cell_type": "code",
   "execution_count": 607,
   "id": "fb63f1d8",
   "metadata": {},
   "outputs": [],
   "source": [
    "team_medal = olympics.groupby('Medal')['Team'].value_counts().reset_index('Medal')\n",
    "team_medal.columns = ['Medal', 'Count']\n",
    "team_medal = team_medal.reset_index('Team')"
   ]
  },
  {
   "cell_type": "code",
   "execution_count": 608,
   "id": "1abeaf23",
   "metadata": {},
   "outputs": [],
   "source": [
    "team_medal = pd.pivot(team_medal, index='Team', columns = ['Medal'], values = 'Count')"
   ]
  },
  {
   "cell_type": "code",
   "execution_count": 609,
   "id": "8d972326",
   "metadata": {},
   "outputs": [
    {
     "data": {
      "text/html": [
       "<div>\n",
       "<style scoped>\n",
       "    .dataframe tbody tr th:only-of-type {\n",
       "        vertical-align: middle;\n",
       "    }\n",
       "\n",
       "    .dataframe tbody tr th {\n",
       "        vertical-align: top;\n",
       "    }\n",
       "\n",
       "    .dataframe thead th {\n",
       "        text-align: right;\n",
       "    }\n",
       "</style>\n",
       "<table border=\"1\" class=\"dataframe\">\n",
       "  <thead>\n",
       "    <tr style=\"text-align: right;\">\n",
       "      <th>Medal</th>\n",
       "      <th>Bronze</th>\n",
       "      <th>Gold</th>\n",
       "      <th>Silver</th>\n",
       "    </tr>\n",
       "    <tr>\n",
       "      <th>Team</th>\n",
       "      <th></th>\n",
       "      <th></th>\n",
       "      <th></th>\n",
       "    </tr>\n",
       "  </thead>\n",
       "  <tbody>\n",
       "    <tr>\n",
       "      <th>A North American Team</th>\n",
       "      <td>4.0</td>\n",
       "      <td>NaN</td>\n",
       "      <td>NaN</td>\n",
       "    </tr>\n",
       "    <tr>\n",
       "      <th>Afghanistan</th>\n",
       "      <td>2.0</td>\n",
       "      <td>NaN</td>\n",
       "      <td>NaN</td>\n",
       "    </tr>\n",
       "    <tr>\n",
       "      <th>Algeria</th>\n",
       "      <td>8.0</td>\n",
       "      <td>5.0</td>\n",
       "      <td>4.0</td>\n",
       "    </tr>\n",
       "    <tr>\n",
       "      <th>Ali-Baba II</th>\n",
       "      <td>5.0</td>\n",
       "      <td>NaN</td>\n",
       "      <td>NaN</td>\n",
       "    </tr>\n",
       "    <tr>\n",
       "      <th>Amateur Athletic Association</th>\n",
       "      <td>NaN</td>\n",
       "      <td>5.0</td>\n",
       "      <td>NaN</td>\n",
       "    </tr>\n",
       "    <tr>\n",
       "      <th>...</th>\n",
       "      <td>...</td>\n",
       "      <td>...</td>\n",
       "      <td>...</td>\n",
       "    </tr>\n",
       "    <tr>\n",
       "      <th>Winnipeg Shamrocks-1</th>\n",
       "      <td>NaN</td>\n",
       "      <td>12.0</td>\n",
       "      <td>NaN</td>\n",
       "    </tr>\n",
       "    <tr>\n",
       "      <th>Yugoslavia</th>\n",
       "      <td>93.0</td>\n",
       "      <td>130.0</td>\n",
       "      <td>167.0</td>\n",
       "    </tr>\n",
       "    <tr>\n",
       "      <th>Zambia</th>\n",
       "      <td>1.0</td>\n",
       "      <td>NaN</td>\n",
       "      <td>1.0</td>\n",
       "    </tr>\n",
       "    <tr>\n",
       "      <th>Zimbabwe</th>\n",
       "      <td>1.0</td>\n",
       "      <td>17.0</td>\n",
       "      <td>4.0</td>\n",
       "    </tr>\n",
       "    <tr>\n",
       "      <th>Zut</th>\n",
       "      <td>NaN</td>\n",
       "      <td>NaN</td>\n",
       "      <td>3.0</td>\n",
       "    </tr>\n",
       "  </tbody>\n",
       "</table>\n",
       "<p>498 rows × 3 columns</p>\n",
       "</div>"
      ],
      "text/plain": [
       "Medal                         Bronze   Gold  Silver\n",
       "Team                                               \n",
       "A North American Team            4.0    NaN     NaN\n",
       "Afghanistan                      2.0    NaN     NaN\n",
       "Algeria                          8.0    5.0     4.0\n",
       "Ali-Baba II                      5.0    NaN     NaN\n",
       "Amateur Athletic Association     NaN    5.0     NaN\n",
       "...                              ...    ...     ...\n",
       "Winnipeg Shamrocks-1             NaN   12.0     NaN\n",
       "Yugoslavia                      93.0  130.0   167.0\n",
       "Zambia                           1.0    NaN     1.0\n",
       "Zimbabwe                         1.0   17.0     4.0\n",
       "Zut                              NaN    NaN     3.0\n",
       "\n",
       "[498 rows x 3 columns]"
      ]
     },
     "execution_count": 609,
     "metadata": {},
     "output_type": "execute_result"
    }
   ],
   "source": [
    "team_medal"
   ]
  },
  {
   "cell_type": "code",
   "execution_count": null,
   "id": "2ac1224f",
   "metadata": {},
   "outputs": [],
   "source": [
    "# to be continued...."
   ]
  },
  {
   "cell_type": "markdown",
   "id": "8e27b024",
   "metadata": {},
   "source": [
    "# Additional task"
   ]
  },
  {
   "cell_type": "markdown",
   "id": "edfe34b2",
   "metadata": {},
   "source": [
    "### Task 16"
   ]
  },
  {
   "cell_type": "markdown",
   "id": "8844351c",
   "metadata": {},
   "source": [
    "#### Correlation between height and weight separately for male and female athletes"
   ]
  },
  {
   "cell_type": "markdown",
   "id": "745b9ba9",
   "metadata": {},
   "source": [
    "At first we need to check distributions of our data to choose correlation coefficient."
   ]
  },
  {
   "cell_type": "code",
   "execution_count": 610,
   "id": "a61f60ed",
   "metadata": {},
   "outputs": [],
   "source": [
    "olympics_male = olympics[olympics['Sex'] == 'M'].dropna(subset=['Height', 'Weight'])\n",
    "olympics_female = olympics[olympics['Sex'] == 'F'].dropna(subset=['Height', 'Weight'])"
   ]
  },
  {
   "cell_type": "code",
   "execution_count": 611,
   "id": "37a83dea",
   "metadata": {},
   "outputs": [
    {
     "name": "stdout",
     "output_type": "stream",
     "text": [
      "Shapiro tests for normal distribution:\n",
      "Male height statistic: 0.997 with p-value = 0.0\n",
      "Female height statistic: 0.996 with p-value = 0.0\n",
      "Male weight statistic: 0.955 with p-value = 0.0\n",
      "Female weight statistic: 0.956 with p-value = 0.0\n"
     ]
    },
    {
     "name": "stderr",
     "output_type": "stream",
     "text": [
      "/opt/homebrew/lib/python3.10/site-packages/scipy/stats/_morestats.py:1800: UserWarning: p-value may not be accurate for N > 5000.\n",
      "  warnings.warn(\"p-value may not be accurate for N > 5000.\")\n"
     ]
    }
   ],
   "source": [
    "shapiro_male_height = st.shapiro(olympics_male['Height'])\n",
    "shapiro_female_height = st.shapiro(olympics_female['Height'])\n",
    "\n",
    "shapiro_male_weight = st.shapiro(olympics_male['Weight'])\n",
    "shapiro_female_weight = st.shapiro(olympics_female['Weight'])\n",
    "\n",
    "print('Shapiro tests for normal distribution:', \\\n",
    "     f'Male height statistic: {round(shapiro_male_height[0], 3)} with p-value = {round(shapiro_male_height[1], 3)}', \\\n",
    "     f'Female height statistic: {round(shapiro_female_height[0], 3)} with p-value = {round(shapiro_female_height[1], 3)}', \\\n",
    "     f'Male weight statistic: {round(shapiro_male_weight[0], 3)} with p-value = {round(shapiro_male_weight[1], 3)}', \\\n",
    "     f'Female weight statistic: {round(shapiro_female_weight[0], 3)} with p-value = {round(shapiro_female_weight[1], 3)}', \\\n",
    "     sep='\\n')"
   ]
  },
  {
   "cell_type": "markdown",
   "id": "265c0020",
   "metadata": {},
   "source": [
    "Variables are not match with normal distribution (p-value < 0.05) so we can use Spearman's correlations:"
   ]
  },
  {
   "cell_type": "code",
   "execution_count": 612,
   "id": "8112fc13",
   "metadata": {},
   "outputs": [
    {
     "name": "stdout",
     "output_type": "stream",
     "text": [
      "Spearman's correlations between height and weight for male and female athletes:\n",
      "Male R: 0.764 with p-value = 0.0\n",
      "Female R: 0.753 with p-value = 0.0\n"
     ]
    }
   ],
   "source": [
    "male_hw_corr = st.spearmanr(olympics_male['Height'], olympics_male['Weight'])\n",
    "female_hw_corr = st.spearmanr(olympics_female['Height'], olympics_female['Weight'])\n",
    "\n",
    "print('Spearman\\'s correlations between height and weight for male and female athletes:', \\\n",
    "     f'Male R: {round(male_hw_corr[0], 3)} with p-value = {round(male_hw_corr[1], 3)}', \\\n",
    "     f'Female R: {round(female_hw_corr[0], 3)} with p-value = {round(female_hw_corr[1], 3)}', \\\n",
    "     sep='\\n')"
   ]
  },
  {
   "cell_type": "code",
   "execution_count": 613,
   "id": "0aed8127",
   "metadata": {},
   "outputs": [
    {
     "data": {
      "text/plain": [
       "<seaborn.axisgrid.FacetGrid at 0x2bddb9960>"
      ]
     },
     "execution_count": 613,
     "metadata": {},
     "output_type": "execute_result"
    },
    {
     "data": {
      "image/png": "[encoded data removed]",
      "text/plain": [
       "<Figure size 1000x500 with 2 Axes>"
      ]
     },
     "metadata": {},
     "output_type": "display_data"
    }
   ],
   "source": [
    "sns.lmplot(olympics, x = 'Height', y = 'Weight', col = 'Sex')"
   ]
  },
  {
   "cell_type": "markdown",
   "id": "cb0721bc",
   "metadata": {},
   "source": [
    "We see the strong correlation that is statistically significant (p < 0.05) between weight and height for both male and female athletes."
   ]
  },
  {
   "cell_type": "markdown",
   "id": "c760925a",
   "metadata": {},
   "source": [
    "#### How did the number of medals received by the USSR and Russia change over time?"
   ]
  },
  {
   "cell_type": "code",
   "execution_count": 614,
   "id": "2bc63865",
   "metadata": {},
   "outputs": [],
   "source": [
    "olympics_russia = olympics[olympics['Team'].isin(['Soviet Union', 'Russia'])]"
   ]
  },
  {
   "cell_type": "code",
   "execution_count": 615,
   "id": "eaf80772",
   "metadata": {
    "scrolled": true
   },
   "outputs": [
    {
     "data": {
      "text/html": [
       "<div>\n",
       "<style scoped>\n",
       "    .dataframe tbody tr th:only-of-type {\n",
       "        vertical-align: middle;\n",
       "    }\n",
       "\n",
       "    .dataframe tbody tr th {\n",
       "        vertical-align: top;\n",
       "    }\n",
       "\n",
       "    .dataframe thead th {\n",
       "        text-align: right;\n",
       "    }\n",
       "</style>\n",
       "<table border=\"1\" class=\"dataframe\">\n",
       "  <thead>\n",
       "    <tr style=\"text-align: right;\">\n",
       "      <th></th>\n",
       "      <th>Medal</th>\n",
       "      <th>Season</th>\n",
       "      <th>Year</th>\n",
       "      <th>Count</th>\n",
       "    </tr>\n",
       "  </thead>\n",
       "  <tbody>\n",
       "    <tr>\n",
       "      <th>0</th>\n",
       "      <td>Silver</td>\n",
       "      <td>Summer</td>\n",
       "      <td>1908.0</td>\n",
       "      <td>2</td>\n",
       "    </tr>\n",
       "    <tr>\n",
       "      <th>1</th>\n",
       "      <td>Gold</td>\n",
       "      <td>Summer</td>\n",
       "      <td>1908.0</td>\n",
       "      <td>1</td>\n",
       "    </tr>\n",
       "    <tr>\n",
       "      <th>2</th>\n",
       "      <td>Silver</td>\n",
       "      <td>Summer</td>\n",
       "      <td>1912.0</td>\n",
       "      <td>5</td>\n",
       "    </tr>\n",
       "    <tr>\n",
       "      <th>3</th>\n",
       "      <td>Bronze</td>\n",
       "      <td>Summer</td>\n",
       "      <td>1912.0</td>\n",
       "      <td>2</td>\n",
       "    </tr>\n",
       "    <tr>\n",
       "      <th>4</th>\n",
       "      <td>Silver</td>\n",
       "      <td>Summer</td>\n",
       "      <td>1952.0</td>\n",
       "      <td>62</td>\n",
       "    </tr>\n",
       "    <tr>\n",
       "      <th>...</th>\n",
       "      <td>...</td>\n",
       "      <td>...</td>\n",
       "      <td>...</td>\n",
       "      <td>...</td>\n",
       "    </tr>\n",
       "    <tr>\n",
       "      <th>89</th>\n",
       "      <td>Gold</td>\n",
       "      <td>Winter</td>\n",
       "      <td>2010.0</td>\n",
       "      <td>6</td>\n",
       "    </tr>\n",
       "    <tr>\n",
       "      <th>90</th>\n",
       "      <td>Silver</td>\n",
       "      <td>Winter</td>\n",
       "      <td>2010.0</td>\n",
       "      <td>5</td>\n",
       "    </tr>\n",
       "    <tr>\n",
       "      <th>91</th>\n",
       "      <td>Gold</td>\n",
       "      <td>Winter</td>\n",
       "      <td>2014.0</td>\n",
       "      <td>25</td>\n",
       "    </tr>\n",
       "    <tr>\n",
       "      <th>92</th>\n",
       "      <td>Silver</td>\n",
       "      <td>Winter</td>\n",
       "      <td>2014.0</td>\n",
       "      <td>20</td>\n",
       "    </tr>\n",
       "    <tr>\n",
       "      <th>93</th>\n",
       "      <td>Bronze</td>\n",
       "      <td>Winter</td>\n",
       "      <td>2014.0</td>\n",
       "      <td>11</td>\n",
       "    </tr>\n",
       "  </tbody>\n",
       "</table>\n",
       "<p>94 rows × 4 columns</p>\n",
       "</div>"
      ],
      "text/plain": [
       "     Medal  Season    Year  Count\n",
       "0   Silver  Summer  1908.0      2\n",
       "1     Gold  Summer  1908.0      1\n",
       "2   Silver  Summer  1912.0      5\n",
       "3   Bronze  Summer  1912.0      2\n",
       "4   Silver  Summer  1952.0     62\n",
       "..     ...     ...     ...    ...\n",
       "89    Gold  Winter  2010.0      6\n",
       "90  Silver  Winter  2010.0      5\n",
       "91    Gold  Winter  2014.0     25\n",
       "92  Silver  Winter  2014.0     20\n",
       "93  Bronze  Winter  2014.0     11\n",
       "\n",
       "[94 rows x 4 columns]"
      ]
     },
     "execution_count": 615,
     "metadata": {},
     "output_type": "execute_result"
    }
   ],
   "source": [
    "olympics_russia = olympics_russia.groupby(['Season', 'Year'])['Medal'].value_counts().reset_index(['Season', 'Year'])\n",
    "olympics_russia.columns = ['Season', 'Year', 'Count']\n",
    "olympics_russia = olympics_russia.reset_index('Medal')\n",
    "olympics_russia"
   ]
  },
  {
   "cell_type": "code",
   "execution_count": 616,
   "id": "14697b99",
   "metadata": {
    "scrolled": false
   },
   "outputs": [
    {
     "name": "stderr",
     "output_type": "stream",
     "text": [
      "/opt/homebrew/lib/python3.10/site-packages/seaborn/axisgrid.py:712: UserWarning: Using the barplot function without specifying `order` is likely to produce an incorrect plot.\n",
      "  warnings.warn(warning)\n"
     ]
    },
    {
     "data": {
      "text/plain": [
       "[None,\n",
       " None,\n",
       " None,\n",
       " [None,\n",
       "  None,\n",
       "  None,\n",
       "  None,\n",
       "  None,\n",
       "  None,\n",
       "  None,\n",
       "  None,\n",
       "  None,\n",
       "  None,\n",
       "  None,\n",
       "  None,\n",
       "  None,\n",
       "  None,\n",
       "  None,\n",
       "  None,\n",
       "  None,\n",
       "  None,\n",
       "  None,\n",
       "  None,\n",
       "  None,\n",
       "  None,\n",
       "  None,\n",
       "  None],\n",
       " [None,\n",
       "  None,\n",
       "  None,\n",
       "  None,\n",
       "  None,\n",
       "  None,\n",
       "  None,\n",
       "  None,\n",
       "  None,\n",
       "  None,\n",
       "  None,\n",
       "  None,\n",
       "  None,\n",
       "  None,\n",
       "  None,\n",
       "  None,\n",
       "  None,\n",
       "  None,\n",
       "  None,\n",
       "  None,\n",
       "  None,\n",
       "  None,\n",
       "  None,\n",
       "  None],\n",
       " [None,\n",
       "  None,\n",
       "  None,\n",
       "  None,\n",
       "  None,\n",
       "  None,\n",
       "  None,\n",
       "  None,\n",
       "  None,\n",
       "  None,\n",
       "  None,\n",
       "  None,\n",
       "  None,\n",
       "  None,\n",
       "  None,\n",
       "  None,\n",
       "  None,\n",
       "  None,\n",
       "  None,\n",
       "  None,\n",
       "  None,\n",
       "  None,\n",
       "  None,\n",
       "  None]]"
      ]
     },
     "execution_count": 616,
     "metadata": {},
     "output_type": "execute_result"
    },
    {
     "data": {
      "image/png": "[encoded data removed]",
      "text/plain": [
       "<Figure size 900x600 with 6 Axes>"
      ]
     },
     "metadata": {},
     "output_type": "display_data"
    }
   ],
   "source": [
    "olympics_russia_fig = sns.FacetGrid(olympics_russia, row = 'Season', col = 'Medal', col_order=['Bronze', 'Silver', 'Gold'])\n",
    "olympics_russia_fig.map(sns.barplot, 'Year', 'Count')\n",
    "plt.xticks(range(0, len(olympics_russia['Year'].unique()), 2))\n",
    "[plt.setp(ax.get_xticklabels(), rotation=45) for ax in olympics_russia_fig.axes.flat]"
   ]
  },
  {
   "cell_type": "markdown",
   "id": "dad80eb0",
   "metadata": {},
   "source": [
    "We see that summer games was more success for Russia than winter games. Also we see the rise in the number of medals received in 1980th. "
   ]
  }
 ],
 "metadata": {
  "celltoolbar": "Raw Cell Format",
  "kernelspec": {
   "display_name": "Python 3 (ipykernel)",
   "language": "python",
   "name": "python3"
  },
  "language_info": {
   "codemirror_mode": {
    "name": "ipython",
    "version": 3
   },
   "file_extension": ".py",
   "mimetype": "text/x-python",
   "name": "python",
   "nbconvert_exporter": "python",
   "pygments_lexer": "ipython3",
   "version": "3.10.8"
  }
 },
 "nbformat": 4,
 "nbformat_minor": 5
}
