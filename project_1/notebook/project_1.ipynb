{
 "cells": [
  {
   "cell_type": "markdown",
   "id": "e5be0a0e",
   "metadata": {},
   "source": [
    "# Import libraries"
   ]
  },
  {
   "cell_type": "code",
   "execution_count": 255,
   "id": "3d6fc3bd",
   "metadata": {},
   "outputs": [],
   "source": [
    "import os\n",
    "import pandas as pd\n",
    "import seaborn as sns\n",
    "import scipy.stats as st"
   ]
  },
  {
   "cell_type": "markdown",
   "id": "6d066123",
   "metadata": {},
   "source": [
    "# Load the data"
   ]
  },
  {
   "cell_type": "markdown",
   "id": "e959a49c",
   "metadata": {},
   "source": [
    "In this project we analyzed the dataset about last 120 years olympic champions.   \n",
    "The dataset splitted to some files with tables. \n",
    "\n",
    "The dataset has the following features:\n",
    "\n",
    "* ID – Unique number for each athlete\n",
    "* Name – Athlete's name\n",
    "* Sex – M or F\n",
    "* Age – Integer\n",
    "* Height – In centimeters\n",
    "* Weight – In kilograms\n",
    "* Team – Team name\n",
    "* NOC – National Olympic Committee 3-letter code\n",
    "* Games – Year and season\n",
    "* Year – Integer\n",
    "* Season – Summer or Winter\n",
    "* City – Host city\n",
    "* Sport – Sport\n",
    "* Event – Event\n",
    "* Medal – Gold, Silver, Bronze, or NA"
   ]
  },
  {
   "cell_type": "markdown",
   "id": "c34ee645",
   "metadata": {},
   "source": [
    "### Task 1"
   ]
  },
  {
   "cell_type": "code",
   "execution_count": null,
   "id": "cf845358",
   "metadata": {},
   "outputs": [],
   "source": [
    "####### !!!!!!!! добавить чтение не только csv"
   ]
  },
  {
   "cell_type": "code",
   "execution_count": 75,
   "id": "22dc6360",
   "metadata": {},
   "outputs": [],
   "source": [
    "def unite_table(direct, extension):\n",
    "    one_table = pd.DataFrame()\n",
    "    file_names = os.listdir(direct)\n",
    "    \n",
    "    for file in file_names:\n",
    "        try:\n",
    "            if file.endswith(extension):\n",
    "                adding_table = pd.read_csv(os.path.join(direct, file))\n",
    "                one_table = pd.concat([one_table, adding_table], axis=0)\n",
    "        except:\n",
    "            pass\n",
    "    \n",
    "    return one_table"
   ]
  },
  {
   "cell_type": "code",
   "execution_count": 76,
   "id": "56baa91c",
   "metadata": {},
   "outputs": [],
   "source": [
    "direct = '/Users/emulciber/IB/statistics_and_r/BI_stats_2022/project_1/data/athlete_events/'\n",
    "extension = 'csv'"
   ]
  },
  {
   "cell_type": "code",
   "execution_count": 78,
   "id": "a5880ef7",
   "metadata": {},
   "outputs": [],
   "source": [
    "olympics = unite_table(direct, extension)"
   ]
  },
  {
   "cell_type": "markdown",
   "id": "a80c4184",
   "metadata": {},
   "source": [
    "### Задание 2"
   ]
  },
  {
   "cell_type": "code",
   "execution_count": null,
   "id": "a0f2bedb",
   "metadata": {},
   "outputs": [],
   "source": [
    "# !!!!!!!!!!! Пробежаться еще раз с проверкой (см текстовый файл с опиисанием данных)"
   ]
  },
  {
   "cell_type": "code",
   "execution_count": null,
   "id": "65033fb2",
   "metadata": {},
   "outputs": [],
   "source": [
    "# Проверяем, корректно ли загружена таблица, визуально знакомимся с данными таблицы"
   ]
  },
  {
   "cell_type": "code",
   "execution_count": 86,
   "id": "09bd3424",
   "metadata": {
    "scrolled": true
   },
   "outputs": [
    {
     "data": {
      "text/html": [
       "<div>\n",
       "<style scoped>\n",
       "    .dataframe tbody tr th:only-of-type {\n",
       "        vertical-align: middle;\n",
       "    }\n",
       "\n",
       "    .dataframe tbody tr th {\n",
       "        vertical-align: top;\n",
       "    }\n",
       "\n",
       "    .dataframe thead th {\n",
       "        text-align: right;\n",
       "    }\n",
       "</style>\n",
       "<table border=\"1\" class=\"dataframe\">\n",
       "  <thead>\n",
       "    <tr style=\"text-align: right;\">\n",
       "      <th></th>\n",
       "      <th>ID</th>\n",
       "      <th>Name</th>\n",
       "      <th>Sex</th>\n",
       "      <th>Age</th>\n",
       "      <th>Height</th>\n",
       "      <th>Weight</th>\n",
       "      <th>Team</th>\n",
       "      <th>NOC</th>\n",
       "      <th>Games</th>\n",
       "      <th>Year</th>\n",
       "      <th>Season</th>\n",
       "      <th>City</th>\n",
       "      <th>Sport</th>\n",
       "      <th>Event</th>\n",
       "      <th>Medal</th>\n",
       "    </tr>\n",
       "  </thead>\n",
       "  <tbody>\n",
       "    <tr>\n",
       "      <th>0</th>\n",
       "      <td>91138</td>\n",
       "      <td>Anton Dmitriyevich Pantov</td>\n",
       "      <td>M</td>\n",
       "      <td>22.0</td>\n",
       "      <td>187.0</td>\n",
       "      <td>77.0</td>\n",
       "      <td>Kazakhstan</td>\n",
       "      <td>KAZ</td>\n",
       "      <td>2014 Winter</td>\n",
       "      <td>2014.0</td>\n",
       "      <td>Winter</td>\n",
       "      <td>Sochi</td>\n",
       "      <td>Biathlon</td>\n",
       "      <td>Biathlon Men's 10 kilometres Sprint</td>\n",
       "      <td>NaN</td>\n",
       "    </tr>\n",
       "    <tr>\n",
       "      <th>1</th>\n",
       "      <td>91138</td>\n",
       "      <td>Anton Dmitriyevich Pantov</td>\n",
       "      <td>M</td>\n",
       "      <td>22.0</td>\n",
       "      <td>187.0</td>\n",
       "      <td>77.0</td>\n",
       "      <td>Kazakhstan</td>\n",
       "      <td>KAZ</td>\n",
       "      <td>2014 Winter</td>\n",
       "      <td>2014.0</td>\n",
       "      <td>Winter</td>\n",
       "      <td>Sochi</td>\n",
       "      <td>Biathlon</td>\n",
       "      <td>Biathlon Mixed 2 x 6 kilometres and 2 x 7.5 ki...</td>\n",
       "      <td>NaN</td>\n",
       "    </tr>\n",
       "    <tr>\n",
       "      <th>2</th>\n",
       "      <td>91138</td>\n",
       "      <td>Anton Dmitriyevich Pantov</td>\n",
       "      <td>M</td>\n",
       "      <td>22.0</td>\n",
       "      <td>187.0</td>\n",
       "      <td>77.0</td>\n",
       "      <td>Kazakhstan</td>\n",
       "      <td>KAZ</td>\n",
       "      <td>2014 Winter</td>\n",
       "      <td>2014.0</td>\n",
       "      <td>Winter</td>\n",
       "      <td>Sochi</td>\n",
       "      <td>Biathlon</td>\n",
       "      <td>Biathlon Men's 20 kilometres</td>\n",
       "      <td>NaN</td>\n",
       "    </tr>\n",
       "    <tr>\n",
       "      <th>3</th>\n",
       "      <td>91138</td>\n",
       "      <td>Anton Dmitriyevich Pantov</td>\n",
       "      <td>M</td>\n",
       "      <td>22.0</td>\n",
       "      <td>187.0</td>\n",
       "      <td>77.0</td>\n",
       "      <td>Kazakhstan</td>\n",
       "      <td>KAZ</td>\n",
       "      <td>2014 Winter</td>\n",
       "      <td>2014.0</td>\n",
       "      <td>Winter</td>\n",
       "      <td>Sochi</td>\n",
       "      <td>Biathlon</td>\n",
       "      <td>Biathlon Men's 4 x 7.5 kilometres Relay</td>\n",
       "      <td>NaN</td>\n",
       "    </tr>\n",
       "    <tr>\n",
       "      <th>4</th>\n",
       "      <td>91139</td>\n",
       "      <td>Dmitry Anatolyevich Pantov</td>\n",
       "      <td>M</td>\n",
       "      <td>24.0</td>\n",
       "      <td>190.0</td>\n",
       "      <td>85.0</td>\n",
       "      <td>Kazakhstan</td>\n",
       "      <td>KAZ</td>\n",
       "      <td>1994 Winter</td>\n",
       "      <td>1994.0</td>\n",
       "      <td>Winter</td>\n",
       "      <td>Lillehammer</td>\n",
       "      <td>Biathlon</td>\n",
       "      <td>Biathlon Men's 10 kilometres Sprint</td>\n",
       "      <td>NaN</td>\n",
       "    </tr>\n",
       "  </tbody>\n",
       "</table>\n",
       "</div>"
      ],
      "text/plain": [
       "      ID                        Name Sex   Age  Height  Weight        Team  \\\n",
       "0  91138   Anton Dmitriyevich Pantov   M  22.0   187.0    77.0  Kazakhstan   \n",
       "1  91138   Anton Dmitriyevich Pantov   M  22.0   187.0    77.0  Kazakhstan   \n",
       "2  91138   Anton Dmitriyevich Pantov   M  22.0   187.0    77.0  Kazakhstan   \n",
       "3  91138   Anton Dmitriyevich Pantov   M  22.0   187.0    77.0  Kazakhstan   \n",
       "4  91139  Dmitry Anatolyevich Pantov   M  24.0   190.0    85.0  Kazakhstan   \n",
       "\n",
       "   NOC        Games    Year  Season         City     Sport  \\\n",
       "0  KAZ  2014 Winter  2014.0  Winter        Sochi  Biathlon   \n",
       "1  KAZ  2014 Winter  2014.0  Winter        Sochi  Biathlon   \n",
       "2  KAZ  2014 Winter  2014.0  Winter        Sochi  Biathlon   \n",
       "3  KAZ  2014 Winter  2014.0  Winter        Sochi  Biathlon   \n",
       "4  KAZ  1994 Winter  1994.0  Winter  Lillehammer  Biathlon   \n",
       "\n",
       "                                               Event Medal  \n",
       "0                Biathlon Men's 10 kilometres Sprint   NaN  \n",
       "1  Biathlon Mixed 2 x 6 kilometres and 2 x 7.5 ki...   NaN  \n",
       "2                       Biathlon Men's 20 kilometres   NaN  \n",
       "3            Biathlon Men's 4 x 7.5 kilometres Relay   NaN  \n",
       "4                Biathlon Men's 10 kilometres Sprint   NaN  "
      ]
     },
     "execution_count": 86,
     "metadata": {},
     "output_type": "execute_result"
    }
   ],
   "source": [
    "olympics.head()"
   ]
  },
  {
   "cell_type": "code",
   "execution_count": null,
   "id": "e779199c",
   "metadata": {},
   "outputs": [],
   "source": [
    "# Вызываем типы и количество объектов, содержащихся в столбцах таблицы"
   ]
  },
  {
   "cell_type": "code",
   "execution_count": 85,
   "id": "3fe388e1",
   "metadata": {},
   "outputs": [
    {
     "name": "stdout",
     "output_type": "stream",
     "text": [
      "<class 'pandas.core.frame.DataFrame'>\n",
      "Int64Index: 271115 entries, 0 to 22390\n",
      "Data columns (total 15 columns):\n",
      " #   Column  Non-Null Count   Dtype  \n",
      "---  ------  --------------   -----  \n",
      " 0   ID      271115 non-null  int64  \n",
      " 1   Name    271114 non-null  object \n",
      " 2   Sex     271113 non-null  object \n",
      " 3   Age     261639 non-null  float64\n",
      " 4   Height  210943 non-null  float64\n",
      " 5   Weight  208239 non-null  float64\n",
      " 6   Team    271112 non-null  object \n",
      " 7   NOC     271111 non-null  object \n",
      " 8   Games   271110 non-null  object \n",
      " 9   Year    271108 non-null  float64\n",
      " 10  Season  271108 non-null  object \n",
      " 11  City    271108 non-null  object \n",
      " 12  Sport   271108 non-null  object \n",
      " 13  Event   271107 non-null  object \n",
      " 14  Medal   39782 non-null   object \n",
      "dtypes: float64(4), int64(1), object(10)\n",
      "memory usage: 33.1+ MB\n"
     ]
    }
   ],
   "source": [
    "olympics.info()"
   ]
  },
  {
   "cell_type": "code",
   "execution_count": null,
   "id": "c6fb8949",
   "metadata": {},
   "outputs": [],
   "source": [
    "# Числовым столбцам соответствуют числовые типы, столбцы с текстом содержат данные object. Все корректно. Однако, во многих столбцам есть пропущенные значения."
   ]
  },
  {
   "cell_type": "code",
   "execution_count": null,
   "id": "17433e55",
   "metadata": {},
   "outputs": [],
   "source": [
    "# Вызываем описательные характеристики числовых столбцов"
   ]
  },
  {
   "cell_type": "code",
   "execution_count": 84,
   "id": "097b6f70",
   "metadata": {},
   "outputs": [
    {
     "data": {
      "text/html": [
       "<div>\n",
       "<style scoped>\n",
       "    .dataframe tbody tr th:only-of-type {\n",
       "        vertical-align: middle;\n",
       "    }\n",
       "\n",
       "    .dataframe tbody tr th {\n",
       "        vertical-align: top;\n",
       "    }\n",
       "\n",
       "    .dataframe thead th {\n",
       "        text-align: right;\n",
       "    }\n",
       "</style>\n",
       "<table border=\"1\" class=\"dataframe\">\n",
       "  <thead>\n",
       "    <tr style=\"text-align: right;\">\n",
       "      <th></th>\n",
       "      <th>ID</th>\n",
       "      <th>Age</th>\n",
       "      <th>Height</th>\n",
       "      <th>Weight</th>\n",
       "      <th>Year</th>\n",
       "    </tr>\n",
       "  </thead>\n",
       "  <tbody>\n",
       "    <tr>\n",
       "      <th>count</th>\n",
       "      <td>271115.000000</td>\n",
       "      <td>261639.000000</td>\n",
       "      <td>210943.000000</td>\n",
       "      <td>208239.000000</td>\n",
       "      <td>271108.000000</td>\n",
       "    </tr>\n",
       "    <tr>\n",
       "      <th>mean</th>\n",
       "      <td>68248.828641</td>\n",
       "      <td>25.557669</td>\n",
       "      <td>175.339760</td>\n",
       "      <td>70.702232</td>\n",
       "      <td>1978.378314</td>\n",
       "    </tr>\n",
       "    <tr>\n",
       "      <th>std</th>\n",
       "      <td>39022.303374</td>\n",
       "      <td>6.407296</td>\n",
       "      <td>10.524619</td>\n",
       "      <td>14.348878</td>\n",
       "      <td>29.877579</td>\n",
       "    </tr>\n",
       "    <tr>\n",
       "      <th>min</th>\n",
       "      <td>1.000000</td>\n",
       "      <td>10.000000</td>\n",
       "      <td>127.000000</td>\n",
       "      <td>7.000000</td>\n",
       "      <td>1896.000000</td>\n",
       "    </tr>\n",
       "    <tr>\n",
       "      <th>25%</th>\n",
       "      <td>34643.000000</td>\n",
       "      <td>21.000000</td>\n",
       "      <td>168.000000</td>\n",
       "      <td>60.000000</td>\n",
       "      <td>1960.000000</td>\n",
       "    </tr>\n",
       "    <tr>\n",
       "      <th>50%</th>\n",
       "      <td>68205.000000</td>\n",
       "      <td>24.000000</td>\n",
       "      <td>175.000000</td>\n",
       "      <td>70.000000</td>\n",
       "      <td>1988.000000</td>\n",
       "    </tr>\n",
       "    <tr>\n",
       "      <th>75%</th>\n",
       "      <td>102097.000000</td>\n",
       "      <td>28.000000</td>\n",
       "      <td>183.000000</td>\n",
       "      <td>79.000000</td>\n",
       "      <td>2002.000000</td>\n",
       "    </tr>\n",
       "    <tr>\n",
       "      <th>max</th>\n",
       "      <td>135571.000000</td>\n",
       "      <td>240.000000</td>\n",
       "      <td>340.000000</td>\n",
       "      <td>214.000000</td>\n",
       "      <td>2016.000000</td>\n",
       "    </tr>\n",
       "  </tbody>\n",
       "</table>\n",
       "</div>"
      ],
      "text/plain": [
       "                  ID            Age         Height         Weight  \\\n",
       "count  271115.000000  261639.000000  210943.000000  208239.000000   \n",
       "mean    68248.828641      25.557669     175.339760      70.702232   \n",
       "std     39022.303374       6.407296      10.524619      14.348878   \n",
       "min         1.000000      10.000000     127.000000       7.000000   \n",
       "25%     34643.000000      21.000000     168.000000      60.000000   \n",
       "50%     68205.000000      24.000000     175.000000      70.000000   \n",
       "75%    102097.000000      28.000000     183.000000      79.000000   \n",
       "max    135571.000000     240.000000     340.000000     214.000000   \n",
       "\n",
       "                Year  \n",
       "count  271108.000000  \n",
       "mean     1978.378314  \n",
       "std        29.877579  \n",
       "min      1896.000000  \n",
       "25%      1960.000000  \n",
       "50%      1988.000000  \n",
       "75%      2002.000000  \n",
       "max      2016.000000  "
      ]
     },
     "execution_count": 84,
     "metadata": {},
     "output_type": "execute_result"
    }
   ],
   "source": [
    "olympics.describe()"
   ]
  },
  {
   "cell_type": "code",
   "execution_count": null,
   "id": "82598e91",
   "metadata": {},
   "outputs": [],
   "source": [
    "# Плюс-минус все соответствует норме, кроме минимального значения веса - в 7 кг"
   ]
  },
  {
   "cell_type": "code",
   "execution_count": 87,
   "id": "150f4bed",
   "metadata": {},
   "outputs": [
    {
     "data": {
      "text/html": [
       "<div>\n",
       "<style scoped>\n",
       "    .dataframe tbody tr th:only-of-type {\n",
       "        vertical-align: middle;\n",
       "    }\n",
       "\n",
       "    .dataframe tbody tr th {\n",
       "        vertical-align: top;\n",
       "    }\n",
       "\n",
       "    .dataframe thead th {\n",
       "        text-align: right;\n",
       "    }\n",
       "</style>\n",
       "<table border=\"1\" class=\"dataframe\">\n",
       "  <thead>\n",
       "    <tr style=\"text-align: right;\">\n",
       "      <th></th>\n",
       "      <th>ID</th>\n",
       "      <th>Name</th>\n",
       "      <th>Sex</th>\n",
       "      <th>Age</th>\n",
       "      <th>Height</th>\n",
       "      <th>Weight</th>\n",
       "      <th>Team</th>\n",
       "      <th>NOC</th>\n",
       "      <th>Games</th>\n",
       "      <th>Year</th>\n",
       "      <th>Season</th>\n",
       "      <th>City</th>\n",
       "      <th>Sport</th>\n",
       "      <th>Event</th>\n",
       "      <th>Medal</th>\n",
       "    </tr>\n",
       "  </thead>\n",
       "  <tbody>\n",
       "    <tr>\n",
       "      <th>22642</th>\n",
       "      <td>68370</td>\n",
       "      <td>Helmut Lehmann</td>\n",
       "      <td>M</td>\n",
       "      <td>25.0</td>\n",
       "      <td>178.0</td>\n",
       "      <td>7.0</td>\n",
       "      <td>NaN</td>\n",
       "      <td>NaN</td>\n",
       "      <td>NaN</td>\n",
       "      <td>NaN</td>\n",
       "      <td>NaN</td>\n",
       "      <td>NaN</td>\n",
       "      <td>NaN</td>\n",
       "      <td>NaN</td>\n",
       "      <td>NaN</td>\n",
       "    </tr>\n",
       "  </tbody>\n",
       "</table>\n",
       "</div>"
      ],
      "text/plain": [
       "          ID            Name Sex   Age  Height  Weight Team  NOC Games  Year  \\\n",
       "22642  68370  Helmut Lehmann   M  25.0   178.0     7.0  NaN  NaN   NaN   NaN   \n",
       "\n",
       "      Season City Sport Event Medal  \n",
       "22642    NaN  NaN   NaN   NaN   NaN  "
      ]
     },
     "execution_count": 87,
     "metadata": {},
     "output_type": "execute_result"
    }
   ],
   "source": [
    "olympics[olympics['Weight'] == 7]"
   ]
  },
  {
   "cell_type": "code",
   "execution_count": null,
   "id": "ba1a4a89",
   "metadata": {},
   "outputs": [],
   "source": [
    "# Вес в этой строке, судя по всему, указан с ошибкой. Также, видим много пропущенных значений, тем более пришло время от них избавиться. Поскольку пропущенные значения не слишком частое явление, мы можем просто убрать строки с ними, т.к. заполнение пропущенных значений, например, средним, это не слишком корректный метод, хотя и может использоваться в крайних случаях, когда данных мало и они \"дырявые\". Не забываем также, что убирать значения надо из столбцов, кроме \"Medal\"."
   ]
  },
  {
   "cell_type": "code",
   "execution_count": 88,
   "id": "7c188349",
   "metadata": {},
   "outputs": [
    {
     "data": {
      "text/plain": [
       "271115"
      ]
     },
     "execution_count": 88,
     "metadata": {},
     "output_type": "execute_result"
    }
   ],
   "source": [
    "len(olympics)"
   ]
  },
  {
   "cell_type": "code",
   "execution_count": 93,
   "id": "d5dbed5d",
   "metadata": {},
   "outputs": [],
   "source": [
    "olympics_col = list(olympics.columns)[:-1]"
   ]
  },
  {
   "cell_type": "code",
   "execution_count": 95,
   "id": "5b564789",
   "metadata": {},
   "outputs": [],
   "source": [
    "olympics = olympics.dropna(subset=olympics_col)"
   ]
  },
  {
   "cell_type": "code",
   "execution_count": 96,
   "id": "b4030cd5",
   "metadata": {},
   "outputs": [
    {
     "data": {
      "text/plain": [
       "206159"
      ]
     },
     "execution_count": 96,
     "metadata": {},
     "output_type": "execute_result"
    }
   ],
   "source": [
    "len(olympics)"
   ]
  },
  {
   "cell_type": "code",
   "execution_count": null,
   "id": "c9443898",
   "metadata": {},
   "outputs": [],
   "source": [
    "# Итого мы лишились около 70 000 записей, что довольно много, однако все еще кажется мне допустимым в сравнении с общим количеством. Еще раз проверим описательные статистики числовых столбцов"
   ]
  },
  {
   "cell_type": "code",
   "execution_count": 97,
   "id": "791e2099",
   "metadata": {},
   "outputs": [
    {
     "data": {
      "text/html": [
       "<div>\n",
       "<style scoped>\n",
       "    .dataframe tbody tr th:only-of-type {\n",
       "        vertical-align: middle;\n",
       "    }\n",
       "\n",
       "    .dataframe tbody tr th {\n",
       "        vertical-align: top;\n",
       "    }\n",
       "\n",
       "    .dataframe thead th {\n",
       "        text-align: right;\n",
       "    }\n",
       "</style>\n",
       "<table border=\"1\" class=\"dataframe\">\n",
       "  <thead>\n",
       "    <tr style=\"text-align: right;\">\n",
       "      <th></th>\n",
       "      <th>ID</th>\n",
       "      <th>Age</th>\n",
       "      <th>Height</th>\n",
       "      <th>Weight</th>\n",
       "      <th>Year</th>\n",
       "    </tr>\n",
       "  </thead>\n",
       "  <tbody>\n",
       "    <tr>\n",
       "      <th>count</th>\n",
       "      <td>206159.000000</td>\n",
       "      <td>206159.000000</td>\n",
       "      <td>206159.000000</td>\n",
       "      <td>206159.000000</td>\n",
       "      <td>206159.000000</td>\n",
       "    </tr>\n",
       "    <tr>\n",
       "      <th>mean</th>\n",
       "      <td>68616.133198</td>\n",
       "      <td>25.055511</td>\n",
       "      <td>175.372887</td>\n",
       "      <td>70.688692</td>\n",
       "      <td>1989.674591</td>\n",
       "    </tr>\n",
       "    <tr>\n",
       "      <th>std</th>\n",
       "      <td>38996.513955</td>\n",
       "      <td>5.483134</td>\n",
       "      <td>10.552392</td>\n",
       "      <td>14.340543</td>\n",
       "      <td>20.130946</td>\n",
       "    </tr>\n",
       "    <tr>\n",
       "      <th>min</th>\n",
       "      <td>1.000000</td>\n",
       "      <td>11.000000</td>\n",
       "      <td>127.000000</td>\n",
       "      <td>25.000000</td>\n",
       "      <td>1896.000000</td>\n",
       "    </tr>\n",
       "    <tr>\n",
       "      <th>25%</th>\n",
       "      <td>35194.000000</td>\n",
       "      <td>21.000000</td>\n",
       "      <td>168.000000</td>\n",
       "      <td>60.000000</td>\n",
       "      <td>1976.000000</td>\n",
       "    </tr>\n",
       "    <tr>\n",
       "      <th>50%</th>\n",
       "      <td>68629.000000</td>\n",
       "      <td>24.000000</td>\n",
       "      <td>175.000000</td>\n",
       "      <td>70.000000</td>\n",
       "      <td>1992.000000</td>\n",
       "    </tr>\n",
       "    <tr>\n",
       "      <th>75%</th>\n",
       "      <td>102313.000000</td>\n",
       "      <td>28.000000</td>\n",
       "      <td>183.000000</td>\n",
       "      <td>79.000000</td>\n",
       "      <td>2006.000000</td>\n",
       "    </tr>\n",
       "    <tr>\n",
       "      <th>max</th>\n",
       "      <td>135571.000000</td>\n",
       "      <td>71.000000</td>\n",
       "      <td>340.000000</td>\n",
       "      <td>214.000000</td>\n",
       "      <td>2016.000000</td>\n",
       "    </tr>\n",
       "  </tbody>\n",
       "</table>\n",
       "</div>"
      ],
      "text/plain": [
       "                  ID            Age         Height         Weight  \\\n",
       "count  206159.000000  206159.000000  206159.000000  206159.000000   \n",
       "mean    68616.133198      25.055511     175.372887      70.688692   \n",
       "std     38996.513955       5.483134      10.552392      14.340543   \n",
       "min         1.000000      11.000000     127.000000      25.000000   \n",
       "25%     35194.000000      21.000000     168.000000      60.000000   \n",
       "50%     68629.000000      24.000000     175.000000      70.000000   \n",
       "75%    102313.000000      28.000000     183.000000      79.000000   \n",
       "max    135571.000000      71.000000     340.000000     214.000000   \n",
       "\n",
       "                Year  \n",
       "count  206159.000000  \n",
       "mean     1989.674591  \n",
       "std        20.130946  \n",
       "min      1896.000000  \n",
       "25%      1976.000000  \n",
       "50%      1992.000000  \n",
       "75%      2006.000000  \n",
       "max      2016.000000  "
      ]
     },
     "execution_count": 97,
     "metadata": {},
     "output_type": "execute_result"
    }
   ],
   "source": [
    "olympics.describe() ## ПОЧЕМУ РОСТ 340????? ВЕС 214?????"
   ]
  },
  {
   "cell_type": "code",
   "execution_count": null,
   "id": "44c577c7",
   "metadata": {},
   "outputs": [],
   "source": [
    "# Выглядит значительно лучше. Необходимо также проверить значения в столбцах с категориями, для этого посмотрим на списки значений в таких столбцах и удалим единично встречающиеся неопознаваемые варианты"
   ]
  },
  {
   "cell_type": "code",
   "execution_count": 103,
   "id": "a5f0a24b",
   "metadata": {},
   "outputs": [
    {
     "data": {
      "text/plain": [
       "M    139449\n",
       "F     66709\n",
       "G         1\n",
       "Name: Sex, dtype: int64"
      ]
     },
     "execution_count": 103,
     "metadata": {},
     "output_type": "execute_result"
    }
   ],
   "source": [
    "olympics['Sex'].value_counts()"
   ]
  },
  {
   "cell_type": "code",
   "execution_count": null,
   "id": "8042783a",
   "metadata": {},
   "outputs": [],
   "source": [
    "# Есть единичное значение, которое выпадает из общего массива значений. Уберем его"
   ]
  },
  {
   "cell_type": "code",
   "execution_count": 115,
   "id": "cd2e1208",
   "metadata": {},
   "outputs": [],
   "source": [
    "olympics = olympics[olympics['Sex'] != 'G']"
   ]
  },
  {
   "cell_type": "code",
   "execution_count": 118,
   "id": "e3ab320a",
   "metadata": {
    "scrolled": true
   },
   "outputs": [
    {
     "data": {
      "text/plain": [
       "2000 Summer    13681\n",
       "2016 Summer    13443\n",
       "2008 Summer    13402\n",
       "2004 Summer    13398\n",
       "2012 Summer    12523\n",
       "1996 Summer    11837\n",
       "1988 Summer    11618\n",
       "1992 Summer    10326\n",
       "1972 Summer     9846\n",
       "1984 Summer     8916\n",
       "1968 Summer     8402\n",
       "1976 Summer     8265\n",
       "1960 Summer     7525\n",
       "1964 Summer     7368\n",
       "1980 Summer     6843\n",
       "2014 Winter     4673\n",
       "2010 Winter     4378\n",
       "2006 Winter     4365\n",
       "2002 Winter     4060\n",
       "1998 Winter     3518\n",
       "1994 Winter     2971\n",
       "1992 Winter     2783\n",
       "1956 Summer     2261\n",
       "1988 Winter     2018\n",
       "1984 Winter     1951\n",
       "1952 Summer     1914\n",
       "1968 Winter     1801\n",
       "1972 Winter     1635\n",
       "1980 Winter     1374\n",
       "1964 Winter     1343\n",
       "1976 Winter     1302\n",
       "1948 Summer      914\n",
       "1936 Summer      827\n",
       "1928 Summer      622\n",
       "1912 Summer      551\n",
       "1924 Summer      543\n",
       "1960 Winter      512\n",
       "1932 Summer      449\n",
       "1920 Summer      428\n",
       "1908 Summer      366\n",
       "1956 Winter      334\n",
       "1906 Summer      201\n",
       "1952 Winter      144\n",
       "1904 Summer      119\n",
       "1948 Winter      102\n",
       "1900 Summer       71\n",
       "1936 Winter       69\n",
       "1928 Winter       44\n",
       "1932 Winter       43\n",
       "1896 Summer       40\n",
       "1924 Winter       39\n",
       "Name: Games, dtype: int64"
      ]
     },
     "execution_count": 118,
     "metadata": {},
     "output_type": "execute_result"
    }
   ],
   "source": [
    "olympics['Games'].value_counts()"
   ]
  },
  {
   "cell_type": "code",
   "execution_count": 119,
   "id": "fda6eaf3",
   "metadata": {},
   "outputs": [
    {
     "data": {
      "text/plain": [
       "Summer    166699\n",
       "Winter     39459\n",
       "Name: Season, dtype: int64"
      ]
     },
     "execution_count": 119,
     "metadata": {},
     "output_type": "execute_result"
    }
   ],
   "source": [
    "olympics['Season'].value_counts()"
   ]
  },
  {
   "cell_type": "code",
   "execution_count": 120,
   "id": "57aeb7f2",
   "metadata": {
    "scrolled": true
   },
   "outputs": [
    {
     "data": {
      "text/plain": [
       "London                    13803\n",
       "Sydney                    13681\n",
       "Athina                    13639\n",
       "Rio de Janeiro            13443\n",
       "Beijing                   13402\n",
       "Atlanta                   11837\n",
       "Seoul                     11618\n",
       "Barcelona                 10326\n",
       "Munich                     9846\n",
       "Los Angeles                9365\n",
       "Mexico City                8402\n",
       "Montreal                   8265\n",
       "Roma                       7525\n",
       "Tokyo                      7368\n",
       "Moskva                     6843\n",
       "Sochi                      4673\n",
       "Vancouver                  4378\n",
       "Torino                     4365\n",
       "Salt Lake City             4060\n",
       "Nagano                     3518\n",
       "Lillehammer                2971\n",
       "Albertville                2783\n",
       "Innsbruck                  2645\n",
       "Melbourne                  2155\n",
       "Calgary                    2018\n",
       "Sarajevo                   1951\n",
       "Helsinki                   1914\n",
       "Grenoble                   1801\n",
       "Sapporo                    1635\n",
       "Lake Placid                1417\n",
       "Berlin                      827\n",
       "Stockholm                   657\n",
       "Amsterdam                   622\n",
       "Paris                       614\n",
       "Squaw Valley                512\n",
       "Antwerpen                   428\n",
       "Cortina d'Ampezzo           334\n",
       "Sankt Moritz                146\n",
       "Oslo                        144\n",
       "St. Louis                   119\n",
       "Garmisch-Partenkirchen       69\n",
       "Chamonix                     39\n",
       "Name: City, dtype: int64"
      ]
     },
     "execution_count": 120,
     "metadata": {},
     "output_type": "execute_result"
    }
   ],
   "source": [
    "olympics['City'].value_counts()"
   ]
  },
  {
   "cell_type": "code",
   "execution_count": 121,
   "id": "e1211bc5",
   "metadata": {},
   "outputs": [
    {
     "data": {
      "text/plain": [
       "Gold      10167\n",
       "Bronze    10148\n",
       "Silver     9865\n",
       "Name: Medal, dtype: int64"
      ]
     },
     "execution_count": 121,
     "metadata": {},
     "output_type": "execute_result"
    }
   ],
   "source": [
    "olympics['Medal'].value_counts()"
   ]
  },
  {
   "cell_type": "code",
   "execution_count": null,
   "id": "7ee30970",
   "metadata": {},
   "outputs": [],
   "source": [
    "# Остальные столбцы кажутся в порядке. Столбцы с именами, командами и странами содержат очень большое количество значений, в т.ч. единичных, поэтому их не оцениваем."
   ]
  },
  {
   "cell_type": "markdown",
   "id": "0699f79d",
   "metadata": {},
   "source": [
    "### Задание 3"
   ]
  },
  {
   "cell_type": "code",
   "execution_count": 127,
   "id": "ab676a19",
   "metadata": {},
   "outputs": [
    {
     "name": "stdout",
     "output_type": "stream",
     "text": [
      "Возраст самого молодого спортсмена женского пола в 1992 году: 12.0\n"
     ]
    }
   ],
   "source": [
    "youngest_fem_1992 = min(olympics[(olympics['Year'] == 1992) & (olympics['Sex'] == 'F')]['Age'])\n",
    "print('Возраст самого молодого спортсмена женского пола в 1992 году:', youngest_fem_1992)"
   ]
  },
  {
   "cell_type": "code",
   "execution_count": 128,
   "id": "1a6b4441",
   "metadata": {},
   "outputs": [
    {
     "name": "stdout",
     "output_type": "stream",
     "text": [
      "Возраст самого молодого спортсмена мужского пола в 1992 году: 14.0\n"
     ]
    }
   ],
   "source": [
    "youngest_male_1992 = min(olympics[(olympics['Year'] == 1992) & (olympics['Sex'] == 'M')]['Age'])\n",
    "print('Возраст самого молодого спортсмена мужского пола в 1992 году:', youngest_male_1992)"
   ]
  },
  {
   "cell_type": "markdown",
   "id": "f05ab289",
   "metadata": {},
   "source": [
    "### Задание 4"
   ]
  },
  {
   "cell_type": "code",
   "execution_count": 137,
   "id": "ad35e0a1",
   "metadata": {},
   "outputs": [
    {
     "name": "stdout",
     "output_type": "stream",
     "text": [
      "Среднее значение переменной Height для спортсменов женского пола: 167.8638564511535\n",
      "Стандартное отклонение переменной Height для спортсменов женского пола: 8.793263549124246\n"
     ]
    }
   ],
   "source": [
    "mean_height_fem = olympics[olympics['Sex'] == 'F']['Height'].mean()\n",
    "std_height_fem = olympics[olympics['Sex'] == 'F']['Height'].std()\n",
    "\n",
    "print(f'Среднее значение переменной Height для спортсменов женского пола: {mean_height_fem}', \n",
    "      f'Стандартное отклонение переменной Height для спортсменов женского пола: {std_height_fem}', sep='\\n')"
   ]
  },
  {
   "cell_type": "code",
   "execution_count": 138,
   "id": "be24cbdd",
   "metadata": {},
   "outputs": [
    {
     "name": "stdout",
     "output_type": "stream",
     "text": [
      "Среднее значение переменной Height для спортсменов мужского пола: 178.96497644300067\n",
      "Стандартное отклонение переменной Height для спортсменов мужского пола: 9.367877056152064\n"
     ]
    }
   ],
   "source": [
    "mean_height_male = olympics[olympics['Sex'] == 'M']['Height'].mean()\n",
    "std_height_male = olympics[olympics['Sex'] == 'M']['Height'].std()\n",
    "\n",
    "print(f'Среднее значение переменной Height для спортсменов мужского пола: {mean_height_male}', \n",
    "      f'Стандартное отклонение переменной Height для спортсменов мужского пола: {std_height_male}', sep='\\n')"
   ]
  },
  {
   "cell_type": "markdown",
   "id": "3aba96c1",
   "metadata": {},
   "source": [
    "### Задание 5"
   ]
  },
  {
   "cell_type": "markdown",
   "id": "74d78689",
   "metadata": {},
   "source": [
    "Рассчитайте среднее значение и стандартное отклонение переменной Height у теннисисток (sex = F) на Олимпиаде 2000 года. Округлите ответ до первого знака после точки."
   ]
  },
  {
   "cell_type": "code",
   "execution_count": 142,
   "id": "77b491a2",
   "metadata": {},
   "outputs": [
    {
     "data": {
      "text/plain": [
       "171.8"
      ]
     },
     "execution_count": 142,
     "metadata": {},
     "output_type": "execute_result"
    }
   ],
   "source": [
    "olympics[(olympics['Sex'] == 'F') & (olympics['Sport'] == 'Tennis') & (olympics['Year'] == 2000)]['Height'].mean().round(1)"
   ]
  },
  {
   "cell_type": "code",
   "execution_count": 143,
   "id": "8d9412b1",
   "metadata": {},
   "outputs": [
    {
     "data": {
      "text/plain": [
       "6.5"
      ]
     },
     "execution_count": 143,
     "metadata": {},
     "output_type": "execute_result"
    }
   ],
   "source": [
    "olympics[(olympics['Sex'] == 'F') & (olympics['Sport'] == 'Tennis') & (olympics['Year'] == 2000)]['Height'].std().round(1)"
   ]
  },
  {
   "cell_type": "markdown",
   "id": "9ee3f102",
   "metadata": {},
   "source": [
    "### Задание 6"
   ]
  },
  {
   "cell_type": "code",
   "execution_count": null,
   "id": "a928dd83",
   "metadata": {},
   "outputs": [],
   "source": [
    "В каком виде спорта участвовал самый тяжеловесный атлет на Олимпиаде 2006 года? (2 балла)"
   ]
  },
  {
   "cell_type": "code",
   "execution_count": 158,
   "id": "ad6961ab",
   "metadata": {},
   "outputs": [],
   "source": [
    "weight_max_2006 = olympics[(olympics['Year'] == 2006)]['Weight'].max()"
   ]
  },
  {
   "cell_type": "code",
   "execution_count": 161,
   "id": "8455be97",
   "metadata": {},
   "outputs": [
    {
     "data": {
      "text/plain": [
       "8102    Skeleton\n",
       "Name: Sport, dtype: object"
      ]
     },
     "execution_count": 161,
     "metadata": {},
     "output_type": "execute_result"
    }
   ],
   "source": [
    "olympics[(olympics['Year'] == 2006) & (olympics['Weight'] == weight_max_2006)]['Sport']"
   ]
  },
  {
   "cell_type": "markdown",
   "id": "0d50bf27",
   "metadata": {},
   "source": [
    "### Задание 7"
   ]
  },
  {
   "cell_type": "code",
   "execution_count": null,
   "id": "171b059f",
   "metadata": {},
   "outputs": [],
   "source": [
    "Какое количество золотых медалей было получено женщинами с 1980 по 2010 года? (2 балла)"
   ]
  },
  {
   "cell_type": "code",
   "execution_count": 165,
   "id": "ec49bff5",
   "metadata": {},
   "outputs": [
    {
     "data": {
      "text/plain": [
       "2167"
      ]
     },
     "execution_count": 165,
     "metadata": {},
     "output_type": "execute_result"
    }
   ],
   "source": [
    "len(olympics[(olympics['Year'] >= 1980) & (olympics['Year'] <= 2010) & (olympics['Sex'] == 'F') & (olympics['Medal'] == 'Gold')])"
   ]
  },
  {
   "cell_type": "markdown",
   "id": "7ed33ad7",
   "metadata": {},
   "source": [
    "### Задание 8"
   ]
  },
  {
   "cell_type": "code",
   "execution_count": null,
   "id": "663f3d87",
   "metadata": {},
   "outputs": [],
   "source": [
    "Сколько раз спортсмен John Aalberg участвовал в Олимпийских играх в разные годы? (2 балла)"
   ]
  },
  {
   "cell_type": "code",
   "execution_count": 168,
   "id": "5d2d3473",
   "metadata": {},
   "outputs": [
    {
     "data": {
      "text/plain": [
       "2"
      ]
     },
     "execution_count": 168,
     "metadata": {},
     "output_type": "execute_result"
    }
   ],
   "source": [
    "len(olympics[olympics['Name'] == 'John Aalberg']['Year'].unique())"
   ]
  },
  {
   "cell_type": "markdown",
   "id": "3784c0dd",
   "metadata": {},
   "source": [
    "### Задание 9"
   ]
  },
  {
   "cell_type": "code",
   "execution_count": null,
   "id": "167dae3b",
   "metadata": {},
   "outputs": [],
   "source": [
    "Определите наименее и наиболее представленные (по числу участников) возрастные группы спортсменов на Олимпийских играх 2008 года. \n",
    "Возможные возрастные группы: [15-25), [25-35), [35-45), [45-55]. (4 балла)"
   ]
  },
  {
   "cell_type": "code",
   "execution_count": 169,
   "id": "eb493259",
   "metadata": {},
   "outputs": [],
   "source": [
    "olympics_2008 = olympics[olympics['Year'] == 2008]"
   ]
  },
  {
   "cell_type": "code",
   "execution_count": 177,
   "id": "98b03855",
   "metadata": {},
   "outputs": [],
   "source": [
    "cut_labels = ['15-24', '25-34', '35-44', '45-55']\n",
    "cut_bins = [14, 24, 34, 44, 55]"
   ]
  },
  {
   "cell_type": "code",
   "execution_count": 180,
   "id": "4e292f34",
   "metadata": {},
   "outputs": [
    {
     "data": {
      "text/plain": [
       "<AxesSubplot: >"
      ]
     },
     "execution_count": 180,
     "metadata": {},
     "output_type": "execute_result"
    },
    {
     "data": {
      "image/png": "[encoded data removed]",
      "text/plain": [
       "<Figure size 640x480 with 1 Axes>"
      ]
     },
     "metadata": {},
     "output_type": "display_data"
    }
   ],
   "source": [
    "pd.cut(olympics_2008['Age'], bins=cut_bins, labels=cut_labels).hist()"
   ]
  },
  {
   "cell_type": "code",
   "execution_count": 181,
   "id": "36693634",
   "metadata": {},
   "outputs": [],
   "source": [
    "# Наиболее представленные группы: [15-25), [25-35)\n",
    "# Наименее представленные группы: [35-45), [45-55]"
   ]
  },
  {
   "cell_type": "markdown",
   "id": "163f3907",
   "metadata": {},
   "source": [
    "### Задание 10"
   ]
  },
  {
   "cell_type": "code",
   "execution_count": null,
   "id": "dfd906f2",
   "metadata": {},
   "outputs": [],
   "source": [
    "Насколько изменилось число видов спорта на Олимпиаде 2002 года по сравнению с Олимпийскими играми 1994 года? (2 балла)"
   ]
  },
  {
   "cell_type": "code",
   "execution_count": 183,
   "id": "ede279bd",
   "metadata": {},
   "outputs": [
    {
     "data": {
      "text/plain": [
       "3"
      ]
     },
     "execution_count": 183,
     "metadata": {},
     "output_type": "execute_result"
    }
   ],
   "source": [
    "len(olympics[olympics['Year'] == 2002]['Sport'].unique()) - len(olympics[olympics['Year'] == 1994]['Sport'].unique())"
   ]
  },
  {
   "cell_type": "markdown",
   "id": "d0649c28",
   "metadata": {},
   "source": [
    "### Задание 11"
   ]
  },
  {
   "cell_type": "code",
   "execution_count": null,
   "id": "5c98b1a5",
   "metadata": {},
   "outputs": [],
   "source": [
    "Выведите для зимней и летней олимпиады отдельно топ 3 стран по каждой из типов медалей (2 балла)"
   ]
  },
  {
   "cell_type": "code",
   "execution_count": 185,
   "id": "6da67a4b",
   "metadata": {},
   "outputs": [],
   "source": [
    "winter = olympics[olympics['Season'] == 'Winter']\n",
    "summer = olympics[olympics['Season'] == 'Summer']"
   ]
  },
  {
   "cell_type": "code",
   "execution_count": 233,
   "id": "857941a0",
   "metadata": {},
   "outputs": [],
   "source": [
    "winter_group = winter.groupby('Medal')['Team'].value_counts().to_frame()\n",
    "summer_group = summer.groupby('Medal')['Team'].value_counts().to_frame()"
   ]
  },
  {
   "cell_type": "code",
   "execution_count": 232,
   "id": "86ee283d",
   "metadata": {},
   "outputs": [
    {
     "data": {
      "text/html": [
       "<div>\n",
       "<style scoped>\n",
       "    .dataframe tbody tr th:only-of-type {\n",
       "        vertical-align: middle;\n",
       "    }\n",
       "\n",
       "    .dataframe tbody tr th {\n",
       "        vertical-align: top;\n",
       "    }\n",
       "\n",
       "    .dataframe thead th {\n",
       "        text-align: right;\n",
       "    }\n",
       "</style>\n",
       "<table border=\"1\" class=\"dataframe\">\n",
       "  <thead>\n",
       "    <tr style=\"text-align: right;\">\n",
       "      <th></th>\n",
       "      <th>Team</th>\n",
       "    </tr>\n",
       "    <tr>\n",
       "      <th>Team</th>\n",
       "      <th></th>\n",
       "    </tr>\n",
       "  </thead>\n",
       "  <tbody>\n",
       "    <tr>\n",
       "      <th>Finland</th>\n",
       "      <td>210</td>\n",
       "    </tr>\n",
       "    <tr>\n",
       "      <th>Sweden</th>\n",
       "      <td>137</td>\n",
       "    </tr>\n",
       "    <tr>\n",
       "      <th>United States</th>\n",
       "      <td>104</td>\n",
       "    </tr>\n",
       "  </tbody>\n",
       "</table>\n",
       "</div>"
      ],
      "text/plain": [
       "               Team\n",
       "Team               \n",
       "Finland         210\n",
       "Sweden          137\n",
       "United States   104"
      ]
     },
     "execution_count": 232,
     "metadata": {},
     "output_type": "execute_result"
    }
   ],
   "source": [
    "winter_group.loc['Bronze'].head(3)"
   ]
  },
  {
   "cell_type": "code",
   "execution_count": 234,
   "id": "eb1e1f9b",
   "metadata": {},
   "outputs": [
    {
     "data": {
      "text/html": [
       "<div>\n",
       "<style scoped>\n",
       "    .dataframe tbody tr th:only-of-type {\n",
       "        vertical-align: middle;\n",
       "    }\n",
       "\n",
       "    .dataframe tbody tr th {\n",
       "        vertical-align: top;\n",
       "    }\n",
       "\n",
       "    .dataframe thead th {\n",
       "        text-align: right;\n",
       "    }\n",
       "</style>\n",
       "<table border=\"1\" class=\"dataframe\">\n",
       "  <thead>\n",
       "    <tr style=\"text-align: right;\">\n",
       "      <th></th>\n",
       "      <th>Team</th>\n",
       "    </tr>\n",
       "    <tr>\n",
       "      <th>Team</th>\n",
       "      <th></th>\n",
       "    </tr>\n",
       "  </thead>\n",
       "  <tbody>\n",
       "    <tr>\n",
       "      <th>United States</th>\n",
       "      <td>228</td>\n",
       "    </tr>\n",
       "    <tr>\n",
       "      <th>Canada</th>\n",
       "      <td>174</td>\n",
       "    </tr>\n",
       "    <tr>\n",
       "      <th>Finland</th>\n",
       "      <td>137</td>\n",
       "    </tr>\n",
       "  </tbody>\n",
       "</table>\n",
       "</div>"
      ],
      "text/plain": [
       "               Team\n",
       "Team               \n",
       "United States   228\n",
       "Canada          174\n",
       "Finland         137"
      ]
     },
     "execution_count": 234,
     "metadata": {},
     "output_type": "execute_result"
    }
   ],
   "source": [
    "winter_group.loc['Silver'].head(3)"
   ]
  },
  {
   "cell_type": "code",
   "execution_count": 235,
   "id": "5b1c0954",
   "metadata": {},
   "outputs": [
    {
     "data": {
      "text/html": [
       "<div>\n",
       "<style scoped>\n",
       "    .dataframe tbody tr th:only-of-type {\n",
       "        vertical-align: middle;\n",
       "    }\n",
       "\n",
       "    .dataframe tbody tr th {\n",
       "        vertical-align: top;\n",
       "    }\n",
       "\n",
       "    .dataframe thead th {\n",
       "        text-align: right;\n",
       "    }\n",
       "</style>\n",
       "<table border=\"1\" class=\"dataframe\">\n",
       "  <thead>\n",
       "    <tr style=\"text-align: right;\">\n",
       "      <th></th>\n",
       "      <th>Team</th>\n",
       "    </tr>\n",
       "    <tr>\n",
       "      <th>Team</th>\n",
       "      <th></th>\n",
       "    </tr>\n",
       "  </thead>\n",
       "  <tbody>\n",
       "    <tr>\n",
       "      <th>Canada</th>\n",
       "      <td>237</td>\n",
       "    </tr>\n",
       "    <tr>\n",
       "      <th>Soviet Union</th>\n",
       "      <td>205</td>\n",
       "    </tr>\n",
       "    <tr>\n",
       "      <th>United States</th>\n",
       "      <td>126</td>\n",
       "    </tr>\n",
       "  </tbody>\n",
       "</table>\n",
       "</div>"
      ],
      "text/plain": [
       "               Team\n",
       "Team               \n",
       "Canada          237\n",
       "Soviet Union    205\n",
       "United States   126"
      ]
     },
     "execution_count": 235,
     "metadata": {},
     "output_type": "execute_result"
    }
   ],
   "source": [
    "winter_group.loc['Gold'].head(3)"
   ]
  },
  {
   "cell_type": "code",
   "execution_count": 236,
   "id": "2552bef3",
   "metadata": {},
   "outputs": [
    {
     "data": {
      "text/html": [
       "<div>\n",
       "<style scoped>\n",
       "    .dataframe tbody tr th:only-of-type {\n",
       "        vertical-align: middle;\n",
       "    }\n",
       "\n",
       "    .dataframe tbody tr th {\n",
       "        vertical-align: top;\n",
       "    }\n",
       "\n",
       "    .dataframe thead th {\n",
       "        text-align: right;\n",
       "    }\n",
       "</style>\n",
       "<table border=\"1\" class=\"dataframe\">\n",
       "  <thead>\n",
       "    <tr style=\"text-align: right;\">\n",
       "      <th></th>\n",
       "      <th>Team</th>\n",
       "    </tr>\n",
       "    <tr>\n",
       "      <th>Team</th>\n",
       "      <th></th>\n",
       "    </tr>\n",
       "  </thead>\n",
       "  <tbody>\n",
       "    <tr>\n",
       "      <th>United States</th>\n",
       "      <td>834</td>\n",
       "    </tr>\n",
       "    <tr>\n",
       "      <th>Soviet Union</th>\n",
       "      <td>552</td>\n",
       "    </tr>\n",
       "    <tr>\n",
       "      <th>Germany</th>\n",
       "      <td>484</td>\n",
       "    </tr>\n",
       "  </tbody>\n",
       "</table>\n",
       "</div>"
      ],
      "text/plain": [
       "               Team\n",
       "Team               \n",
       "United States   834\n",
       "Soviet Union    552\n",
       "Germany         484"
      ]
     },
     "execution_count": 236,
     "metadata": {},
     "output_type": "execute_result"
    }
   ],
   "source": [
    "summer_group.loc['Bronze'].head(3)"
   ]
  },
  {
   "cell_type": "code",
   "execution_count": 237,
   "id": "9aca7653",
   "metadata": {},
   "outputs": [
    {
     "data": {
      "text/html": [
       "<div>\n",
       "<style scoped>\n",
       "    .dataframe tbody tr th:only-of-type {\n",
       "        vertical-align: middle;\n",
       "    }\n",
       "\n",
       "    .dataframe tbody tr th {\n",
       "        vertical-align: top;\n",
       "    }\n",
       "\n",
       "    .dataframe thead th {\n",
       "        text-align: right;\n",
       "    }\n",
       "</style>\n",
       "<table border=\"1\" class=\"dataframe\">\n",
       "  <thead>\n",
       "    <tr style=\"text-align: right;\">\n",
       "      <th></th>\n",
       "      <th>Team</th>\n",
       "    </tr>\n",
       "    <tr>\n",
       "      <th>Team</th>\n",
       "      <th></th>\n",
       "    </tr>\n",
       "  </thead>\n",
       "  <tbody>\n",
       "    <tr>\n",
       "      <th>United States</th>\n",
       "      <td>1032</td>\n",
       "    </tr>\n",
       "    <tr>\n",
       "      <th>Soviet Union</th>\n",
       "      <td>556</td>\n",
       "    </tr>\n",
       "    <tr>\n",
       "      <th>Australia</th>\n",
       "      <td>409</td>\n",
       "    </tr>\n",
       "  </tbody>\n",
       "</table>\n",
       "</div>"
      ],
      "text/plain": [
       "               Team\n",
       "Team               \n",
       "United States  1032\n",
       "Soviet Union    556\n",
       "Australia       409"
      ]
     },
     "execution_count": 237,
     "metadata": {},
     "output_type": "execute_result"
    }
   ],
   "source": [
    "summer_group.loc['Silver'].head(3)"
   ]
  },
  {
   "cell_type": "code",
   "execution_count": 238,
   "id": "537af290",
   "metadata": {},
   "outputs": [
    {
     "data": {
      "text/html": [
       "<div>\n",
       "<style scoped>\n",
       "    .dataframe tbody tr th:only-of-type {\n",
       "        vertical-align: middle;\n",
       "    }\n",
       "\n",
       "    .dataframe tbody tr th {\n",
       "        vertical-align: top;\n",
       "    }\n",
       "\n",
       "    .dataframe thead th {\n",
       "        text-align: right;\n",
       "    }\n",
       "</style>\n",
       "<table border=\"1\" class=\"dataframe\">\n",
       "  <thead>\n",
       "    <tr style=\"text-align: right;\">\n",
       "      <th></th>\n",
       "      <th>Team</th>\n",
       "    </tr>\n",
       "    <tr>\n",
       "      <th>Team</th>\n",
       "      <th></th>\n",
       "    </tr>\n",
       "  </thead>\n",
       "  <tbody>\n",
       "    <tr>\n",
       "      <th>United States</th>\n",
       "      <td>1949</td>\n",
       "    </tr>\n",
       "    <tr>\n",
       "      <th>Soviet Union</th>\n",
       "      <td>756</td>\n",
       "    </tr>\n",
       "    <tr>\n",
       "      <th>Germany</th>\n",
       "      <td>400</td>\n",
       "    </tr>\n",
       "  </tbody>\n",
       "</table>\n",
       "</div>"
      ],
      "text/plain": [
       "               Team\n",
       "Team               \n",
       "United States  1949\n",
       "Soviet Union    756\n",
       "Germany         400"
      ]
     },
     "execution_count": 238,
     "metadata": {},
     "output_type": "execute_result"
    }
   ],
   "source": [
    "summer_group.loc['Gold'].head(3)"
   ]
  },
  {
   "cell_type": "markdown",
   "id": "cd18be09",
   "metadata": {},
   "source": [
    "### Задание 12"
   ]
  },
  {
   "cell_type": "code",
   "execution_count": null,
   "id": "48b7f158",
   "metadata": {},
   "outputs": [],
   "source": [
    "Создайте новую переменную Height_z_scores и сохраните в нее значения переменной Height после ее стандартизации. (2 балла)"
   ]
  },
  {
   "cell_type": "code",
   "execution_count": 239,
   "id": "daa3fa9c",
   "metadata": {},
   "outputs": [],
   "source": [
    "height_mean = olympics['Height'].mean()\n",
    "height_std = olympics['Height'].std()\n",
    "Height_z_scores = olympics['Height'].apply(lambda x: (x - height_mean) / height_std)"
   ]
  },
  {
   "cell_type": "code",
   "execution_count": 240,
   "id": "3e4b709c",
   "metadata": {},
   "outputs": [
    {
     "data": {
      "text/plain": [
       "0        1.101848\n",
       "1        1.101848\n",
       "2        1.101848\n",
       "3        1.101848\n",
       "4        1.386143\n",
       "           ...   \n",
       "22386    0.343727\n",
       "22387    0.059431\n",
       "22388    0.059431\n",
       "22389    0.912317\n",
       "22390    0.912317\n",
       "Name: Height, Length: 206158, dtype: float64"
      ]
     },
     "execution_count": 240,
     "metadata": {},
     "output_type": "execute_result"
    }
   ],
   "source": [
    "Height_z_scores"
   ]
  },
  {
   "cell_type": "markdown",
   "id": "d1c82789",
   "metadata": {},
   "source": [
    "### Задание 13"
   ]
  },
  {
   "cell_type": "code",
   "execution_count": null,
   "id": "05eafcc1",
   "metadata": {},
   "outputs": [],
   "source": [
    "Дополнительно: Создайте новую переменную Height_min_max_scaled и сохраните в нее значения переменной Height \n",
    "после применения к ней min-max нормализации (нужно будет разобраться, как она работает). (2 балла)"
   ]
  },
  {
   "cell_type": "code",
   "execution_count": 242,
   "id": "bedbeb36",
   "metadata": {},
   "outputs": [],
   "source": [
    "height_min = olympics['Height'].min()\n",
    "height_max = olympics['Height'].max()"
   ]
  },
  {
   "cell_type": "code",
   "execution_count": 243,
   "id": "e6689ea4",
   "metadata": {},
   "outputs": [],
   "source": [
    "Height_min_max_scaled = olympics['Height'].apply(lambda x: (x - height_min) / (height_max - height_min))"
   ]
  },
  {
   "cell_type": "code",
   "execution_count": 247,
   "id": "0089709a",
   "metadata": {},
   "outputs": [
    {
     "data": {
      "text/plain": [
       "0        0.281690\n",
       "1        0.281690\n",
       "2        0.281690\n",
       "3        0.281690\n",
       "4        0.295775\n",
       "           ...   \n",
       "22386    0.244131\n",
       "22387    0.230047\n",
       "22388    0.230047\n",
       "22389    0.272300\n",
       "22390    0.272300\n",
       "Name: Height, Length: 206158, dtype: float64"
      ]
     },
     "execution_count": 247,
     "metadata": {},
     "output_type": "execute_result"
    }
   ],
   "source": [
    "Height_min_max_scaled"
   ]
  },
  {
   "cell_type": "markdown",
   "id": "8368c03b",
   "metadata": {},
   "source": [
    "### Задание 14"
   ]
  },
  {
   "cell_type": "code",
   "execution_count": null,
   "id": "d1cc44d4",
   "metadata": {},
   "outputs": [],
   "source": [
    "Сравните рост, вес и возраст мужчин и женщин, участвовавших в зимних олимпийских играх. Пожалуйста, оформите результаты так, \n",
    "чтобы мы сразу могли использовать их для статьи. (5 баллов)"
   ]
  },
  {
   "cell_type": "code",
   "execution_count": 258,
   "id": "991bcb25",
   "metadata": {},
   "outputs": [],
   "source": [
    "winter_male = winter[winter['Sex'] == 'M']\n",
    "winter_female = winter[winter['Sex'] == 'F']"
   ]
  },
  {
   "cell_type": "code",
   "execution_count": 254,
   "id": "14c7b34c",
   "metadata": {},
   "outputs": [
    {
     "data": {
      "text/plain": [
       "<AxesSubplot: xlabel='Sex', ylabel='Height'>"
      ]
     },
     "execution_count": 254,
     "metadata": {},
     "output_type": "execute_result"
    },
    {
     "data": {
      "image/png": "[encoded data removed]",
      "text/plain": [
       "<Figure size 640x480 with 1 Axes>"
      ]
     },
     "metadata": {},
     "output_type": "display_data"
    }
   ],
   "source": [
    "sns.boxplot(winter, x = 'Sex', y = 'Height')"
   ]
  },
  {
   "cell_type": "code",
   "execution_count": 262,
   "id": "7043817f",
   "metadata": {},
   "outputs": [
    {
     "name": "stdout",
     "output_type": "stream",
     "text": [
      "ShapiroResult(statistic=0.995615541934967, pvalue=8.926407958322846e-27)\n",
      "ShapiroResult(statistic=0.9962491393089294, pvalue=5.694983834653048e-18)\n"
     ]
    }
   ],
   "source": [
    "print(st.shapiro(winter_male['Height']), \\\n",
    "      st.shapiro(winter_female['Height']), sep='\\n')"
   ]
  },
  {
   "cell_type": "code",
   "execution_count": 263,
   "id": "2d36d8e1",
   "metadata": {},
   "outputs": [
    {
     "data": {
      "text/plain": [
       "Ttest_indResult(statistic=179.06226056048396, pvalue=0.0)"
      ]
     },
     "execution_count": 263,
     "metadata": {},
     "output_type": "execute_result"
    }
   ],
   "source": [
    "st.ttest_ind(winter_male['Height'], winter_female['Height'])"
   ]
  },
  {
   "cell_type": "code",
   "execution_count": 264,
   "id": "09ed1e65",
   "metadata": {},
   "outputs": [
    {
     "data": {
      "text/plain": [
       "<AxesSubplot: xlabel='Sex', ylabel='Weight'>"
      ]
     },
     "execution_count": 264,
     "metadata": {},
     "output_type": "execute_result"
    },
    {
     "data": {
      "image/png": "[encoded data removed]",
      "text/plain": [
       "<Figure size 640x480 with 1 Axes>"
      ]
     },
     "metadata": {},
     "output_type": "display_data"
    }
   ],
   "source": [
    "sns.boxplot(winter, x = 'Sex', y = 'Weight')"
   ]
  },
  {
   "cell_type": "code",
   "execution_count": 265,
   "id": "16921fb8",
   "metadata": {},
   "outputs": [
    {
     "name": "stdout",
     "output_type": "stream",
     "text": [
      "ShapiroResult(statistic=0.9867770671844482, pvalue=7.482933799494523e-43)\n",
      "ShapiroResult(statistic=0.9866211414337158, pvalue=2.0316208455215755e-33)\n"
     ]
    },
    {
     "name": "stderr",
     "output_type": "stream",
     "text": [
      "/opt/homebrew/lib/python3.10/site-packages/scipy/stats/_morestats.py:1800: UserWarning: p-value may not be accurate for N > 5000.\n",
      "  warnings.warn(\"p-value may not be accurate for N > 5000.\")\n"
     ]
    }
   ],
   "source": [
    "print(st.shapiro(winter_male['Weight']), \\\n",
    "      st.shapiro(winter_female['Weight']), sep='\\n')"
   ]
  },
  {
   "cell_type": "code",
   "execution_count": 266,
   "id": "b13dfbb7",
   "metadata": {},
   "outputs": [
    {
     "data": {
      "text/plain": [
       "Ttest_indResult(statistic=167.18898747118823, pvalue=0.0)"
      ]
     },
     "execution_count": 266,
     "metadata": {},
     "output_type": "execute_result"
    }
   ],
   "source": [
    "st.ttest_ind(winter_male['Weight'], winter_female['Weight'])"
   ]
  },
  {
   "cell_type": "code",
   "execution_count": 267,
   "id": "22dc129b",
   "metadata": {},
   "outputs": [
    {
     "data": {
      "text/plain": [
       "<AxesSubplot: xlabel='Sex', ylabel='Age'>"
      ]
     },
     "execution_count": 267,
     "metadata": {},
     "output_type": "execute_result"
    },
    {
     "data": {
      "image/png": "[encoded data removed]",
      "text/plain": [
       "<Figure size 640x480 with 1 Axes>"
      ]
     },
     "metadata": {},
     "output_type": "display_data"
    }
   ],
   "source": [
    "sns.boxplot(winter, x = 'Sex', y = 'Age')"
   ]
  },
  {
   "cell_type": "code",
   "execution_count": 268,
   "id": "c91fdcca",
   "metadata": {},
   "outputs": [
    {
     "name": "stdout",
     "output_type": "stream",
     "text": [
      "ShapiroResult(statistic=0.968994140625, pvalue=0.0)\n",
      "ShapiroResult(statistic=0.9805302023887634, pvalue=6.051080022155103e-39)\n"
     ]
    },
    {
     "name": "stderr",
     "output_type": "stream",
     "text": [
      "/opt/homebrew/lib/python3.10/site-packages/scipy/stats/_morestats.py:1800: UserWarning: p-value may not be accurate for N > 5000.\n",
      "  warnings.warn(\"p-value may not be accurate for N > 5000.\")\n"
     ]
    }
   ],
   "source": [
    "print(st.shapiro(winter_male['Age']), \\\n",
    "      st.shapiro(winter_female['Age']), sep='\\n')"
   ]
  },
  {
   "cell_type": "code",
   "execution_count": 269,
   "id": "97ef37c4",
   "metadata": {},
   "outputs": [
    {
     "data": {
      "text/plain": [
       "Ttest_indResult(statistic=25.18013621336959, pvalue=8.284580329528672e-139)"
      ]
     },
     "execution_count": 269,
     "metadata": {},
     "output_type": "execute_result"
    }
   ],
   "source": [
    "st.ttest_ind(winter_male['Age'], winter_female['Age'])"
   ]
  },
  {
   "cell_type": "markdown",
   "id": "4c17cede",
   "metadata": {},
   "source": [
    "### Задание 15"
   ]
  },
  {
   "cell_type": "code",
   "execution_count": null,
   "id": "169b32ba",
   "metadata": {},
   "outputs": [],
   "source": [
    "Нас особенно интересуют переменные Team и Medal. Что ты можешь про них сказать? Есть ли у нас основания предполагать, \n",
    "что они могут быть взаимосвязаны? Как ты это определил? (5 баллов)"
   ]
  },
  {
   "cell_type": "code",
   "execution_count": null,
   "id": "d9ac47cd",
   "metadata": {},
   "outputs": [],
   "source": []
  },
  {
   "cell_type": "markdown",
   "id": "edfe34b2",
   "metadata": {},
   "source": [
    "### Задание 16"
   ]
  },
  {
   "cell_type": "code",
   "execution_count": null,
   "id": "392955a4",
   "metadata": {},
   "outputs": [],
   "source": [
    "Задание “со звездочкой” (дополнительное). В нем предполагается выдвинуть и\n",
    "проверить несколько гипотез в рамках тех методов, которые мы освоили (все, что\n",
    "вам покажется интересным). Здесь нет правильного решения, будет оцениваться\n",
    "ваше умение применять изученные методы и интерпретировать полученные\n",
    "результаты. (10 баллов)"
   ]
  },
  {
   "cell_type": "code",
   "execution_count": null,
   "id": "36af9a1c",
   "metadata": {},
   "outputs": [],
   "source": []
  }
 ],
 "metadata": {
  "celltoolbar": "Raw Cell Format",
  "kernelspec": {
   "display_name": "Python 3 (ipykernel)",
   "language": "python",
   "name": "python3"
  },
  "language_info": {
   "codemirror_mode": {
    "name": "ipython",
    "version": 3
   },
   "file_extension": ".py",
   "mimetype": "text/x-python",
   "name": "python",
   "nbconvert_exporter": "python",
   "pygments_lexer": "ipython3",
   "version": "3.10.8"
  }
 },
 "nbformat": 4,
 "nbformat_minor": 5
}
